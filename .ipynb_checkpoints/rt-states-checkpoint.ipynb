{
 "cells": [
  {
   "cell_type": "markdown",
   "metadata": {},
   "source": [
    "# Estimating COVID-19's $R_t$ in Real-Time with PYMC3\n",
    "\n",
    "Kevin Systrom - April 22\n",
    "\n",
    "Model originally built by [Thomas Vladeck](https://github.com/tvladeck) in Stan, parts inspired by the work over at https://epiforecasts.io/, lots of help from [Thomas Wiecki](https://twitter.com/twiecki). Thank you to everyone who helped.\n",
    "\n",
    "This notebook is a WIP - I'll add more context and commentary over the coming week."
   ]
  },
  {
   "cell_type": "code",
   "execution_count": 73,
   "metadata": {},
   "outputs": [
    {
     "name": "stdout",
     "output_type": "stream",
     "text": [
      "Requirement already satisfied: pymc3 in /Users/kjjin/Library/Python/3.7/lib/python/site-packages (3.9.1)\n",
      "Requirement already satisfied: typing-extensions>=3.7.4 in /Users/kjjin/Library/Python/3.7/lib/python/site-packages (from pymc3) (3.7.4.2)\n",
      "Requirement already satisfied: h5py>=2.7.0 in /Users/kjjin/Library/Python/3.7/lib/python/site-packages (from pymc3) (2.10.0)\n",
      "Requirement already satisfied: theano>=1.0.4 in /Users/kjjin/Library/Python/3.7/lib/python/site-packages (from pymc3) (1.0.4)\n",
      "Requirement already satisfied: scipy>=0.18.1 in /Users/kjjin/Library/Python/3.7/lib/python/site-packages (from pymc3) (1.4.1)\n",
      "Requirement already satisfied: patsy>=0.5.1 in /Users/kjjin/Library/Python/3.7/lib/python/site-packages (from pymc3) (0.5.1)\n",
      "Requirement already satisfied: fastprogress>=0.2.0 in /Users/kjjin/Library/Python/3.7/lib/python/site-packages (from pymc3) (0.2.3)\n",
      "Requirement already satisfied: numpy>=1.13.0 in /Users/kjjin/Library/Python/3.7/lib/python/site-packages (from pymc3) (1.18.5)\n",
      "Requirement already satisfied: arviz>=0.8.3 in /Users/kjjin/Library/Python/3.7/lib/python/site-packages (from pymc3) (0.8.3)\n",
      "Requirement already satisfied: pandas>=0.18.0 in /Users/kjjin/Library/Python/3.7/lib/python/site-packages (from pymc3) (1.0.5)\n",
      "Requirement already satisfied: six in /Users/kjjin/Library/Python/3.7/lib/python/site-packages (from h5py>=2.7.0->pymc3) (1.12.0)\n",
      "Requirement already satisfied: xarray>=0.11 in /Users/kjjin/Library/Python/3.7/lib/python/site-packages (from arviz>=0.8.3->pymc3) (0.15.1)\n",
      "Requirement already satisfied: netcdf4 in /Users/kjjin/Library/Python/3.7/lib/python/site-packages (from arviz>=0.8.3->pymc3) (1.5.3)\n",
      "Requirement already satisfied: matplotlib>=3.0 in /Users/kjjin/Library/Python/3.7/lib/python/site-packages (from arviz>=0.8.3->pymc3) (3.2.2)\n",
      "Requirement already satisfied: packaging in /Users/kjjin/Library/Python/3.7/lib/python/site-packages (from arviz>=0.8.3->pymc3) (20.4)\n",
      "Requirement already satisfied: pytz>=2017.2 in /Users/kjjin/Library/Python/3.7/lib/python/site-packages (from pandas>=0.18.0->pymc3) (2020.1)\n",
      "Requirement already satisfied: python-dateutil>=2.6.1 in /Users/kjjin/Library/Python/3.7/lib/python/site-packages (from pandas>=0.18.0->pymc3) (2.8.1)\n",
      "Requirement already satisfied: setuptools>=41.2 in /Users/kjjin/Library/Python/3.7/lib/python/site-packages (from xarray>=0.11->arviz>=0.8.3->pymc3) (47.3.1)\n",
      "Requirement already satisfied: cftime in /Users/kjjin/Library/Python/3.7/lib/python/site-packages (from netcdf4->arviz>=0.8.3->pymc3) (1.1.3)\n",
      "Requirement already satisfied: pyparsing!=2.0.4,!=2.1.2,!=2.1.6,>=2.0.1 in /Users/kjjin/Library/Python/3.7/lib/python/site-packages (from matplotlib>=3.0->arviz>=0.8.3->pymc3) (2.4.7)\n",
      "Requirement already satisfied: cycler>=0.10 in /Users/kjjin/Library/Python/3.7/lib/python/site-packages (from matplotlib>=3.0->arviz>=0.8.3->pymc3) (0.10.0)\n",
      "Requirement already satisfied: kiwisolver>=1.0.1 in /Users/kjjin/Library/Python/3.7/lib/python/site-packages (from matplotlib>=3.0->arviz>=0.8.3->pymc3) (1.2.0)\n",
      "\u001b[33mYou are using pip version 19.0.3, however version 20.2b1 is available.\n",
      "You should consider upgrading via the 'pip install --upgrade pip' command.\u001b[0m\n",
      "Python 3.7.6\n"
     ]
    }
   ],
   "source": [
    "!pip3.7 install pymc3\n",
    "!python --version"
   ]
  },
  {
   "cell_type": "code",
   "execution_count": 74,
   "metadata": {},
   "outputs": [],
   "source": [
    "# For some reason Theano is unhappy when I run the GP, need to disable future warnings\n",
    "import warnings\n",
    "warnings.simplefilter(action='ignore', category=FutureWarning)\n",
    "\n",
    "import os\n",
    "import requests\n",
    "import pymc3 as pm\n",
    "import pandas as pd\n",
    "import numpy as np\n",
    "import theano\n",
    "import theano.tensor as tt\n",
    "\n",
    "from matplotlib import pyplot as plt\n",
    "from matplotlib import dates as mdates\n",
    "from matplotlib import ticker\n",
    "\n",
    "from datetime import date\n",
    "from datetime import datetime\n",
    "\n",
    "from IPython.display import clear_output\n",
    "\n",
    "%config InlineBackend.figure_format = 'retina'"
   ]
  },
  {
   "cell_type": "code",
   "execution_count": 121,
   "metadata": {},
   "outputs": [],
   "source": [
    "models = {} # cache"
   ]
  },
  {
   "cell_type": "markdown",
   "metadata": {},
   "source": [
    "## Load State Information\n",
    "#### Load"
   ]
  },
  {
   "cell_type": "code",
   "execution_count": 170,
   "metadata": {},
   "outputs": [],
   "source": [
    "url = 'https://covidtracking.com/api/v1/states/daily.csv'\n",
    "states = pd.read_csv(url,\n",
    "                     parse_dates=['date'],\n",
    "                     index_col=['state', 'date']).sort_index()\n",
    "\n",
    "# Note: GU/AS/VI do not have enough data for this model to run\n",
    "# Note: PR had -384 change recently in total count so unable to model\n",
    "states = states.drop(['MP', 'GU', 'AS', 'PR', 'VI'])"
   ]
  },
  {
   "cell_type": "markdown",
   "metadata": {},
   "source": [
    "#### Clean data with known modifications"
   ]
  },
  {
   "cell_type": "code",
   "execution_count": 181,
   "metadata": {},
   "outputs": [],
   "source": [
    "# Errors in Covidtracking.com\n",
    "states.loc[('WA','2020-04-21'), 'positive'] = 12512\n",
    "states.loc[('WA','2020-04-22'), 'positive'] = 12753 \n",
    "states.loc[('WA','2020-04-23'), 'positive'] = 12753 + 190\n",
    "\n",
    "states.loc[('VA', '2020-04-22'), 'positive'] = 10266\n",
    "states.loc[('VA', '2020-04-23'), 'positive'] = 10988\n",
    "\n",
    "states.loc[('PA', '2020-04-22'), 'positive'] = 35684\n",
    "states.loc[('PA', '2020-04-23'), 'positive'] = 37053\n",
    "\n",
    "states.loc[('MA', '2020-04-20'), 'positive'] = 39643\n",
    "\n",
    "states.loc[('CT', '2020-04-18'), 'positive'] = 17550\n",
    "states.loc[('CT', '2020-04-19'), 'positive'] = 17962\n",
    "\n",
    "states.loc[('HI', '2020-04-22'), 'positive'] = 586\n",
    "\n",
    "states.loc[('RI', '2020-03-07'), 'positive'] = 3\n",
    "\n",
    "#Source: NY Times interactives, unless otherwise specified\n",
    "\n",
    "states.loc[('NH', '2020-03-04'), 'positive'] = 2 #source: https://www.nh.gov/covid19/news/updates.htm\n",
    "states.loc[('NH', '2020-03-05'), 'positive'] = 2\n",
    "states.loc[('NH', '2020-03-06'), 'positive'] = 2\n",
    "\n",
    "states.loc[('FL', '2020-03-07'), 'positive'] = 14\n",
    "\n",
    "states.loc[('IA', '2020-03-06'), 'positive'] = 0\n",
    "\n",
    "states.loc[('IN', '2020-03-08'), 'positive'] = 4 #source: https://www.coronavirus.in.gov/2393.htm\n",
    "states.loc[('IN', '2020-03-09'), 'positive'] = 5\n",
    "states.loc[('IN', '2020-03-10'), 'positive'] = 10\n",
    "states.loc[('IN', '2020-03-11'), 'positive'] = 11\n",
    "\n",
    "states.loc[('KS', '2020-03-12'), 'positive'] = 5 \n",
    "\n",
    "states.loc[('KY', '2020-03-13'), 'positive'] = 8 \n",
    "states.loc[('KY', '2020-03-14'), 'positive'] = 15\n",
    "states.loc[('KY', '2020-03-15'), 'positive'] = 18\n",
    "\n",
    "states.loc[('MA', '2020-04-20'), 'positive'] = 1566+39820\n",
    "\n",
    "states.loc[('MD', '2020-03-16'), 'positive'] = 38\n",
    "\n",
    "states.loc[('OH', '2020-04-27'), 'positive'] = 15963+362\n",
    "states.loc[('OH', '2020-04-28'), 'positive'] = 15963+362+444\n",
    "\n",
    "states.loc[('OR', '2020-03-06'), 'positive'] = 3\n",
    "\n",
    "states.loc[('WA', '2020-04-21'), 'positive'] = 13561.0+155\n",
    "states.loc[('WA', '2020-04-22'), 'positive'] = 13561.0+155+196\n",
    "states.loc[('WA', '2020-04-23'), 'positive'] = 13561.0+155+196+375\n",
    "states.loc[('WA', '2020-04-24'), 'positive'] = 13561.0+155+196+375+216\n"
   ]
  },
  {
   "cell_type": "markdown",
   "metadata": {},
   "source": [
    "#### Integrity Check"
   ]
  },
  {
   "cell_type": "code",
   "execution_count": 183,
   "metadata": {},
   "outputs": [
    {
     "name": "stdout",
     "output_type": "stream",
     "text": [
      "Not all states have updated\n"
     ]
    },
    {
     "data": {
      "text/plain": [
       "state\n",
       "AK   2020-06-18\n",
       "AL   2020-06-18\n",
       "AR   2020-06-18\n",
       "AZ   2020-06-18\n",
       "CA   2020-06-18\n",
       "CO   2020-06-18\n",
       "CT   2020-06-18\n",
       "DC   2020-06-18\n",
       "DE   2020-06-18\n",
       "FL   2020-06-18\n",
       "GA   2020-06-18\n",
       "HI   2020-06-18\n",
       "IA   2020-06-18\n",
       "ID   2020-06-18\n",
       "IL   2020-06-18\n",
       "IN   2020-06-18\n",
       "KS   2020-06-18\n",
       "KY   2020-06-18\n",
       "LA   2020-06-18\n",
       "MA   2020-06-18\n",
       "MD   2020-06-18\n",
       "ME   2020-06-18\n",
       "MI   2020-06-18\n",
       "MN   2020-06-18\n",
       "MO   2020-06-18\n",
       "MS   2020-06-18\n",
       "MT   2020-06-18\n",
       "NC   2020-06-18\n",
       "ND   2020-06-18\n",
       "NE   2020-06-18\n",
       "NH   2020-06-18\n",
       "NJ   2020-06-18\n",
       "NM   2020-06-18\n",
       "NV   2020-06-18\n",
       "NY   2020-06-18\n",
       "OH   2020-06-18\n",
       "OK   2020-06-18\n",
       "OR   2020-06-18\n",
       "PA   2020-06-18\n",
       "RI   2020-06-18\n",
       "SC   2020-06-18\n",
       "SD   2020-06-18\n",
       "TN   2020-06-18\n",
       "TX   2020-06-18\n",
       "UT   2020-06-18\n",
       "VA   2020-06-18\n",
       "VT   2020-06-18\n",
       "WA   2020-06-18\n",
       "WI   2020-06-18\n",
       "WV   2020-06-18\n",
       "WY   2020-06-18\n",
       "Name: date, dtype: datetime64[ns]"
      ]
     },
     "metadata": {},
     "output_type": "display_data"
    },
    {
     "name": "stdout",
     "output_type": "stream",
     "text": [
      "Warning: CO has date with negative case counts\n"
     ]
    },
    {
     "data": {
      "text/plain": [
       "state  date      \n",
       "CO     2020-05-12   -20.0\n",
       "Name: positive, dtype: float64"
      ]
     },
     "metadata": {},
     "output_type": "display_data"
    },
    {
     "name": "stdout",
     "output_type": "stream",
     "text": [
      "Warning: HI has date with negative case counts\n"
     ]
    },
    {
     "data": {
      "text/plain": [
       "state  date      \n",
       "HI     2020-05-15   -1.0\n",
       "       2020-05-23   -5.0\n",
       "Name: positive, dtype: float64"
      ]
     },
     "metadata": {},
     "output_type": "display_data"
    },
    {
     "name": "stdout",
     "output_type": "stream",
     "text": [
      "Warning: MT has date with negative case counts\n"
     ]
    },
    {
     "data": {
      "text/plain": [
       "state  date      \n",
       "MT     2020-05-05   -1.0\n",
       "       2020-06-06   -1.0\n",
       "Name: positive, dtype: float64"
      ]
     },
     "metadata": {},
     "output_type": "display_data"
    },
    {
     "name": "stdout",
     "output_type": "stream",
     "text": [
      "Warning: ND has date with negative case counts\n"
     ]
    },
    {
     "data": {
      "text/plain": [
       "state  date      \n",
       "ND     2020-05-26   -35.0\n",
       "Name: positive, dtype: float64"
      ]
     },
     "metadata": {},
     "output_type": "display_data"
    },
    {
     "name": "stdout",
     "output_type": "stream",
     "text": [
      "Warning: VT has date with negative case counts\n"
     ]
    },
    {
     "data": {
      "text/plain": [
       "state  date      \n",
       "VT     2020-06-17   -1.0\n",
       "Name: positive, dtype: float64"
      ]
     },
     "metadata": {},
     "output_type": "display_data"
    }
   ],
   "source": [
    "# Make sure that all the states have current data\n",
    "today = datetime.combine(date.today(), datetime.min.time())\n",
    "last_updated = states.reset_index('date').groupby('state')['date'].max()\n",
    "is_current = last_updated < today\n",
    "\n",
    "try:\n",
    "    assert is_current.sum() == 0\n",
    "except AssertionError:\n",
    "    print(\"Not all states have updated\")\n",
    "    display(last_updated[is_current])\n",
    "\n",
    "# Ensure all case diffs are greater than zero\n",
    "for state, grp in states.groupby('state'):\n",
    "    new_cases = grp.positive.diff().dropna()\n",
    "    is_positive = new_cases.ge(0)\n",
    "    \n",
    "    try:\n",
    "        assert is_positive.all()\n",
    "    except AssertionError:\n",
    "        print(f\"Warning: {state} has date with negative case counts\")\n",
    "        display(new_cases[~is_positive])\n",
    "        \n",
    "# Let's make sure that states have added cases\n",
    "idx = pd.IndexSlice\n",
    "assert not states.loc[idx[:, '2020-04-22':'2020-04-23'], 'positive'].groupby('state').diff().dropna().eq(0).any()"
   ]
  },
  {
   "cell_type": "markdown",
   "metadata": {},
   "source": [
    "## Load Patient Information\n",
    "#### Download\n",
    "~100mb download (be ... patient!)"
   ]
  },
  {
   "cell_type": "code",
   "execution_count": 184,
   "metadata": {},
   "outputs": [
    {
     "name": "stdout",
     "output_type": "stream",
     "text": [
      "Downloading file, this will take a while ~100mb\n",
      "Something went wrong. Try again.\n"
     ]
    }
   ],
   "source": [
    "import pandas as pd\n",
    "import requests \n",
    "\n",
    "def download_file(url, local_filename):\n",
    "\n",
    "    s = requests.get(url).content\n",
    "    df = pd.read_csv(io.StringIO(s.decode('utf-8')))\n",
    "    df.to_csv(local_filename, index=None)\n",
    "\n",
    "    return local_filename\n",
    "\n",
    "URL = \"https://raw.githubusercontent.com/beoutbreakprepared/nCoV2019/master/covid19/raw-data/outside-hubei.csv\"\n",
    "LINELIST_PATH = 'data/linelist.csv'\n",
    "\n",
    "if not os.path.exists(LINELIST_PATH):\n",
    "    print('Downloading file, this will take a while ~100mb')\n",
    "    try:\n",
    "        download_file(URL, LINELIST_PATH)\n",
    "        clear_output(wait=True)\n",
    "        print('Done downloading.')\n",
    "    except:\n",
    "        print('Something went wrong. Try again.')\n",
    "else:\n",
    "    print('Already downloaded CSV')"
   ]
  },
  {
   "cell_type": "code",
   "execution_count": 185,
   "metadata": {},
   "outputs": [
    {
     "name": "stdout",
     "output_type": "stream",
     "text": [
      "Already downloaded CSV\n"
     ]
    }
   ],
   "source": [
    "def download_file(url, local_filename):\n",
    "    \"\"\"From https://stackoverflow.com/questions/16694907/\"\"\"\n",
    "    with requests.get(url, stream=True) as r:\n",
    "        r.raise_for_status()\n",
    "        file = open(local_filename, \"w\")\n",
    "        file.write(r.text)\n",
    "        file.close()\n",
    "    return local_filename\n",
    "\n",
    "\n",
    "URL = \"https://raw.githubusercontent.com/beoutbreakprepared/nCoV2019/master/covid19/raw-data/outside-hubei.csv\"\n",
    "LINELIST_PATH = 'linelist.csv'\n",
    "\n",
    "if not os.path.exists(LINELIST_PATH):\n",
    "    print('Downloading file, this will take a while ~100mb')\n",
    "    try:\n",
    "        download_file(URL, LINELIST_PATH)\n",
    "        clear_output(wait=True)\n",
    "        print('Done downloading.')\n",
    "    except:\n",
    "        print('Something went wrong. Try again.')\n",
    "else:\n",
    "    print('Already downloaded CSV')"
   ]
  },
  {
   "cell_type": "markdown",
   "metadata": {},
   "source": [
    "#### Parse & Clean Patient Info"
   ]
  },
  {
   "cell_type": "code",
   "execution_count": 186,
   "metadata": {},
   "outputs": [],
   "source": [
    "# Load the patient CSV\n",
    "patients = pd.read_csv(\n",
    "    'linelist.csv',\n",
    "    parse_dates=False,\n",
    "    usecols=[\n",
    "        'date_confirmation',\n",
    "        'date_onset_symptoms'],\n",
    "    low_memory=False)\n",
    "\n",
    "patients.columns = ['Onset', 'Confirmed']\n",
    "\n",
    "# There's an errant reversed date\n",
    "patients = patients.replace('01.31.2020', '31.01.2020')\n",
    "\n",
    "# Only keep if both values are present\n",
    "patients = patients.dropna()\n",
    "\n",
    "# Must have strings that look like individual dates\n",
    "# \"2020.03.09\" is 10 chars long\n",
    "is_ten_char = lambda x: x.str.len().eq(10)\n",
    "patients = patients[is_ten_char(patients.Confirmed) & \n",
    "                    is_ten_char(patients.Onset)]\n",
    "\n",
    "# Convert both to datetimes\n",
    "patients.Confirmed = pd.to_datetime(\n",
    "    patients.Confirmed, format='%d.%m.%Y')\n",
    "patients.Onset = pd.to_datetime(\n",
    "    patients.Onset, format='%d.%m.%Y')\n",
    "\n",
    "# Only keep records where confirmed > onset\n",
    "patients = patients[patients.Confirmed >= patients.Onset]"
   ]
  },
  {
   "cell_type": "markdown",
   "metadata": {},
   "source": [
    "#### Show Relationship between Onset of Symptoms and Confirmation"
   ]
  },
  {
   "cell_type": "code",
   "execution_count": 187,
   "metadata": {},
   "outputs": [
    {
     "data": {
      "image/png": "[encoded data removed]",
      "text/plain": [
       "<Figure size 432x432 with 1 Axes>"
      ]
     },
     "metadata": {
      "image/png": {
       "height": 366,
       "width": 385
      },
      "needs_background": "light"
     },
     "output_type": "display_data"
    }
   ],
   "source": [
    "ax = patients.plot(\n",
    "    title='Onset vs. Confirmed Dates - COVID19',\n",
    "    x='Onset',\n",
    "    y='Confirmed',\n",
    "    alpha=.1,\n",
    "    lw=2,\n",
    "    figsize=(6,6))\n",
    "\n",
    "formatter = mdates.DateFormatter('%m/%d')\n",
    "locator = mdates.WeekdayLocator(interval=2)\n",
    "\n",
    "for axis in [ax.xaxis, ax.yaxis]:\n",
    "    axis.set_major_formatter(formatter)\n",
    "    axis.set_major_locator(locator)"
   ]
  },
  {
   "cell_type": "markdown",
   "metadata": {},
   "source": [
    "#### Calculate the Probability Distribution of Delay"
   ]
  },
  {
   "cell_type": "code",
   "execution_count": 188,
   "metadata": {},
   "outputs": [
    {
     "data": {
      "image/png": "[encoded data removed]",
      "text/plain": [
       "<Figure size 648x216 with 2 Axes>"
      ]
     },
     "metadata": {
      "image/png": {
       "height": 222,
       "width": 546
      },
      "needs_background": "light"
     },
     "output_type": "display_data"
    }
   ],
   "source": [
    "# Calculate the delta in days between onset and confirmation\n",
    "delay = (patients.Confirmed - patients.Onset).dt.days\n",
    "\n",
    "# Convert samples to an empirical distribution\n",
    "p_delay = delay.value_counts().sort_index()\n",
    "new_range = np.arange(0, p_delay.index.max()+1)\n",
    "p_delay = p_delay.reindex(new_range, fill_value=0)\n",
    "p_delay /= p_delay.sum()\n",
    "\n",
    "# Show our work\n",
    "fig, axes = plt.subplots(ncols=2, figsize=(9,3))\n",
    "p_delay.plot(title='P(Delay)', ax=axes[0])\n",
    "p_delay.cumsum().plot(title='P(Delay <= x)', ax=axes[1])\n",
    "for ax in axes:\n",
    "    ax.set_xlabel('days')"
   ]
  },
  {
   "cell_type": "markdown",
   "metadata": {},
   "source": [
    "## A Single State\n",
    "\n",
    "#### Select State Data"
   ]
  },
  {
   "cell_type": "code",
   "execution_count": 189,
   "metadata": {},
   "outputs": [
    {
     "data": {
      "text/plain": [
       "date\n",
       "2020-06-14    3212.0\n",
       "2020-06-15    2597.0\n",
       "2020-06-16    2108.0\n",
       "2020-06-17    3455.0\n",
       "2020-06-18    4084.0\n",
       "Name: positive, dtype: float64"
      ]
     },
     "execution_count": 189,
     "metadata": {},
     "output_type": "execute_result"
    }
   ],
   "source": [
    "state = 'CA'\n",
    "confirmed = states.xs(state).positive.diff().dropna()\n",
    "confirmed.tail()"
   ]
  },
  {
   "cell_type": "markdown",
   "metadata": {},
   "source": [
    "### Translate Confirmation Dates to Onset Dates\n",
    "\n",
    "Our goal is to translate positive test counts to the dates where they likely occured. Since we have the distribution, we can distribute case counts back in time according to that distribution. To accomplish this, we reverse the case time series, and convolve it using the distribution of delay from onset to confirmation. Then we reverse the series again to obtain the onset curve. Note that this means the data will be 'right censored' which means there are onset cases that have yet to be reported so it looks as if the count has gone down."
   ]
  },
  {
   "cell_type": "code",
   "execution_count": 190,
   "metadata": {},
   "outputs": [],
   "source": [
    "def confirmed_to_onset(confirmed, p_delay):\n",
    "\n",
    "    assert not confirmed.isna().any()\n",
    "    \n",
    "    # Reverse cases so that we convolve into the past\n",
    "    convolved = np.convolve(confirmed[::-1].values, p_delay)\n",
    "\n",
    "    # Calculate the new date range\n",
    "    dr = pd.date_range(end=confirmed.index[-1],\n",
    "                       periods=len(convolved))\n",
    "\n",
    "    # Flip the values and assign the date range\n",
    "    onset = pd.Series(np.flip(convolved), index=dr)\n",
    "    \n",
    "    return onset\n",
    "\n",
    "\n",
    "onset = confirmed_to_onset(confirmed, p_delay)"
   ]
  },
  {
   "cell_type": "markdown",
   "metadata": {},
   "source": [
    "### Adjust for Right-Censoring\n",
    "\n",
    "Since we distributed observed cases into the past to recreate the onset curve, we now have a right-censored time series. We can correct for that by asking what % of people have a delay less than or equal to the time between the day in question and the current day.\n",
    "\n",
    "For example, 5 days ago, there might have been 100 cases onset. Over the course of the next 5 days some portion of those cases will be reported. This portion is equal to the cumulative distribution function of our delay distribution. If we know that portion is say, 60%, then our current count of onset on that day represents 60% of the total. This implies that the total is 166% higher. We apply this correction to get an idea of what actual onset cases are likely, thus removing the right censoring."
   ]
  },
  {
   "cell_type": "code",
   "execution_count": 191,
   "metadata": {},
   "outputs": [],
   "source": [
    "def adjust_onset_for_right_censorship(onset, p_delay):\n",
    "    cumulative_p_delay = p_delay.cumsum()\n",
    "    \n",
    "    # Calculate the additional ones needed so shapes match\n",
    "    ones_needed = len(onset) - len(cumulative_p_delay)\n",
    "    padding_shape = (0, ones_needed)\n",
    "    \n",
    "    # Add ones and flip back\n",
    "    cumulative_p_delay = np.pad(\n",
    "        cumulative_p_delay,\n",
    "        padding_shape,\n",
    "        constant_values=1)\n",
    "    cumulative_p_delay = np.flip(cumulative_p_delay)\n",
    "    \n",
    "    # Adjusts observed onset values to expected terminal onset values\n",
    "    adjusted = onset / cumulative_p_delay\n",
    "    \n",
    "    return adjusted, cumulative_p_delay\n",
    "\n",
    "\n",
    "adjusted, cumulative_p_delay = adjust_onset_for_right_censorship(onset, p_delay)"
   ]
  },
  {
   "cell_type": "markdown",
   "metadata": {},
   "source": [
    "Take a look at all three series: confirmed, onset and onset adjusted for right censoring."
   ]
  },
  {
   "cell_type": "code",
   "execution_count": 192,
   "metadata": {},
   "outputs": [
    {
     "data": {
      "image/png": "[encoded data removed]",
      "text/plain": [
       "<Figure size 360x216 with 1 Axes>"
      ]
     },
     "metadata": {
      "image/png": {
       "height": 233,
       "width": 326
      },
      "needs_background": "light"
     },
     "output_type": "display_data"
    }
   ],
   "source": [
    "fig, ax = plt.subplots(figsize=(5,3))\n",
    "\n",
    "confirmed.plot(\n",
    "    ax=ax,\n",
    "    label='Confirmed',\n",
    "    title=state,\n",
    "    c='k',\n",
    "    alpha=.25,\n",
    "    lw=1)\n",
    "\n",
    "onset.plot(\n",
    "    ax=ax,\n",
    "    label='Onset',\n",
    "    c='k',\n",
    "    lw=1)\n",
    "\n",
    "adjusted.plot(\n",
    "    ax=ax,\n",
    "    label='Adjusted Onset',\n",
    "    c='k',\n",
    "    linestyle='--',\n",
    "    lw=1)\n",
    "\n",
    "ax.legend();"
   ]
  },
  {
   "cell_type": "markdown",
   "metadata": {},
   "source": [
    "Let's have the model run on days where we have enough data ~last 50 or so"
   ]
  },
  {
   "cell_type": "markdown",
   "metadata": {},
   "source": [
    "### Sample the Posterior with PyMC3"
   ]
  },
  {
   "cell_type": "markdown",
   "metadata": {},
   "source": [
    "We assume a poisson likelihood function and feed it what we believe is the onset curve based on reported data. We model this onset curve based on the same math in the previous notebook:\n",
    "\n",
    "$$ I^\\prime = Ie^{\\gamma(R_t-1)} $$\n",
    "\n",
    "We define $\\theta = \\gamma(R_t-1)$ and model $ I^\\prime = Ie^{\\theta} $ where $\\theta$ observes a random walk. We let $\\gamma$ vary independently based on known parameters for the serial interval. Therefore, we can recover $R_t$ easily by $R_t = \\frac{\\theta}{\\gamma}+1$\n",
    "\n",
    "The only tricky part is understanding that we're feeding in _onset_ cases to the likelihood. So $\\mu$ of the poisson is the positive, non-zero, expected onset cases we think we'd see today.\n",
    "\n",
    "We calculate this by figuring out how many cases we'd expect there to be yesterday total when adjusted for bias and plugging it into the first equation above. We then have to re-bias this number back down to get the expected amount of onset cases observed that day."
   ]
  },
  {
   "cell_type": "code",
   "execution_count": null,
   "metadata": {},
   "outputs": [],
   "source": []
  },
  {
   "cell_type": "code",
   "execution_count": 193,
   "metadata": {},
   "outputs": [],
   "source": [
    "class MCMCModel(object):\n",
    "    \n",
    "    def __init__(self, region, onset, cumulative_p_delay, window=100):\n",
    "        \n",
    "        # Just for identification purposes\n",
    "        self.region = region\n",
    "        \n",
    "        # For the model, we'll only look at the last N\n",
    "        self.onset = onset\n",
    "        self.cumulative_p_delay = cumulative_p_delay\n",
    "        \n",
    "        # Where we store the results\n",
    "        self.trace = None\n",
    "        self.trace_index = self.onset.index[1:]\n",
    "\n",
    "    def run(self, chains=1, tune=3000, draws=1000, target_accept=.95):\n",
    "\n",
    "        with pm.Model() as model:\n",
    "\n",
    "            # Random walk magnitude\n",
    "            step_size = pm.HalfNormal('step_size', sigma=.03)\n",
    "\n",
    "            # Theta random walk\n",
    "            theta_raw_init = pm.Normal('theta_raw_init', 0.1, 0.1)\n",
    "            theta_raw_steps = pm.Normal('theta_raw_steps', shape=len(self.onset)-2) * step_size\n",
    "            theta_raw = tt.concatenate([[theta_raw_init], theta_raw_steps])\n",
    "            theta = pm.Deterministic('theta', theta_raw.cumsum())\n",
    "\n",
    "            # Let the serial interval be a random variable and calculate r_t\n",
    "            serial_interval = pm.Gamma('serial_interval', alpha=6, beta=1.5)\n",
    "            gamma = 1.0 / serial_interval\n",
    "            r_t = pm.Deterministic('r_t', theta/gamma + 1)\n",
    "\n",
    "            inferred_yesterday = self.onset.values[:-1] / self.cumulative_p_delay[:-1]\n",
    "            \n",
    "            expected_today = inferred_yesterday * self.cumulative_p_delay[1:] * pm.math.exp(theta)\n",
    "\n",
    "            # Ensure cases stay above zero for poisson\n",
    "            mu = pm.math.maximum(.1, expected_today)\n",
    "            observed = self.onset.round().values[1:]\n",
    "            cases = pm.Poisson('cases', mu=mu, observed=observed)\n",
    "\n",
    "            self.trace = pm.sample(\n",
    "                chains=chains,\n",
    "                tune=tune,\n",
    "                draws=draws,\n",
    "                target_accept=target_accept)\n",
    "            \n",
    "            return self\n",
    "    \n",
    "    def run_gp(self):\n",
    "        with pm.Model() as model:\n",
    "            gp_shape = len(self.onset) - 1\n",
    "\n",
    "            length_scale = pm.Gamma(\"length_scale\", alpha=3, beta=.4)\n",
    "\n",
    "            eta = .05\n",
    "            cov_func = eta**2 * pm.gp.cov.ExpQuad(1, length_scale)\n",
    "\n",
    "            gp = pm.gp.Latent(mean_func=pm.gp.mean.Constant(c=0), \n",
    "                              cov_func=cov_func)\n",
    "\n",
    "            # Place a GP prior over the function f.\n",
    "            theta = gp.prior(\"theta\", X=np.arange(gp_shape)[:, None])\n",
    "\n",
    "            # Let the serial interval be a random variable and calculate r_t\n",
    "            serial_interval = pm.Gamma('serial_interval', alpha=6, beta=1.5)\n",
    "            gamma = 1.0 / serial_interval\n",
    "            r_t = pm.Deterministic('r_t', theta / gamma + 1)\n",
    "\n",
    "            inferred_yesterday = self.onset.values[:-1] / self.cumulative_p_delay[:-1]\n",
    "            expected_today = inferred_yesterday * self.cumulative_p_delay[1:] * pm.math.exp(theta)\n",
    "\n",
    "            # Ensure cases stay above zero for poisson\n",
    "            mu = pm.math.maximum(.1, expected_today)\n",
    "            observed = self.onset.round().values[1:]\n",
    "            cases = pm.Poisson('cases', mu=mu, observed=observed)\n",
    "\n",
    "            self.trace = pm.sample(chains=1, tune=1000, draws=1000, target_accept=.8)\n",
    "        return self"
   ]
  },
  {
   "cell_type": "markdown",
   "metadata": {},
   "source": [
    "### Run Pymc3 Model"
   ]
  },
  {
   "cell_type": "code",
   "execution_count": 194,
   "metadata": {},
   "outputs": [],
   "source": [
    "def df_from_model(model):\n",
    "    \n",
    "    r_t = model.trace['r_t']\n",
    "    mean = np.mean(r_t, axis=0)\n",
    "    median = np.median(r_t, axis=0)\n",
    "    hpd_90 = az.hdi(r_t, hdi_prob=0.9)\n",
    "    hpd_50 = az.hdi(r_t, hdi_prob=0.5)\n",
    "    \n",
    "    idx = pd.MultiIndex.from_product([\n",
    "            [model.region],\n",
    "            model.trace_index\n",
    "        ], names=['region', 'date'])\n",
    "        \n",
    "    df = pd.DataFrame(data=np.c_[mean, median, hpd_90, hpd_50], index=idx,\n",
    "                 columns=['mean', 'median', 'lower_90', 'upper_90', 'lower_50','upper_50'])\n",
    "    return df\n",
    "\n",
    "def create_and_run_model(name, state):\n",
    "    confirmed = state.positive.diff().dropna()\n",
    "    onset = confirmed_to_onset(confirmed, p_delay)\n",
    "    adjusted, cumulative_p_delay = adjust_onset_for_right_censorship(onset, p_delay)\n",
    "    return MCMCModel(name, onset, cumulative_p_delay).run()"
   ]
  },
  {
   "cell_type": "code",
   "execution_count": 195,
   "metadata": {},
   "outputs": [
    {
     "name": "stdout",
     "output_type": "stream",
     "text": [
      "AK\n",
      "Skipping AK, already in cache\n",
      "AL\n",
      "Skipping AL, already in cache\n",
      "AR\n",
      "Skipping AR, already in cache\n",
      "AZ\n",
      "Skipping AZ, already in cache\n",
      "CA\n",
      "Skipping CA, already in cache\n",
      "CO\n",
      "Skipping CO, already in cache\n",
      "CT\n",
      "Skipping CT, already in cache\n",
      "DC\n",
      "Skipping DC, already in cache\n",
      "DE\n",
      "Skipping DE, already in cache\n",
      "FL\n",
      "Skipping FL, already in cache\n",
      "GA\n",
      "Skipping GA, already in cache\n",
      "HI\n",
      "Skipping HI, already in cache\n",
      "IA\n",
      "Skipping IA, already in cache\n",
      "ID\n",
      "Skipping ID, already in cache\n",
      "IL\n",
      "Skipping IL, already in cache\n",
      "IN\n"
     ]
    },
    {
     "name": "stderr",
     "output_type": "stream",
     "text": [
      "Auto-assigning NUTS sampler...\n",
      "Initializing NUTS using jitter+adapt_diag...\n",
      "Sequential sampling (1 chains in 1 job)\n",
      "NUTS: [serial_interval, theta_raw_steps, theta_raw_init, step_size]\n"
     ]
    },
    {
     "data": {
      "text/html": [
       "\n",
       "    <div>\n",
       "        <style>\n",
       "            /* Turns off some styling */\n",
       "            progress {\n",
       "                /* gets rid of default border in Firefox and Opera. */\n",
       "                border: none;\n",
       "                /* Needs to be in here for Safari polyfill so background images work as expected. */\n",
       "                background-size: auto;\n",
       "            }\n",
       "            .progress-bar-interrupted, .progress-bar-interrupted::-webkit-progress-bar {\n",
       "                background: #F44336;\n",
       "            }\n",
       "        </style>\n",
       "      <progress value='4000' class='' max='4000' style='width:300px; height:20px; vertical-align: middle;'></progress>\n",
       "      100.00% [4000/4000 01:36<00:00 Sampling chain 0, 0 divergences]\n",
       "    </div>\n",
       "    "
      ],
      "text/plain": [
       "<IPython.core.display.HTML object>"
      ]
     },
     "metadata": {},
     "output_type": "display_data"
    },
    {
     "name": "stderr",
     "output_type": "stream",
     "text": [
      "Sampling 1 chain for 3_000 tune and 1_000 draw iterations (3_000 + 1_000 draws total) took 97 seconds.\n",
      "Only one chain was sampled, this makes it impossible to run some convergence checks\n"
     ]
    },
    {
     "name": "stdout",
     "output_type": "stream",
     "text": [
      "KS\n"
     ]
    },
    {
     "name": "stderr",
     "output_type": "stream",
     "text": [
      "Auto-assigning NUTS sampler...\n",
      "Initializing NUTS using jitter+adapt_diag...\n",
      "Sequential sampling (1 chains in 1 job)\n",
      "NUTS: [serial_interval, theta_raw_steps, theta_raw_init, step_size]\n"
     ]
    },
    {
     "data": {
      "text/html": [
       "\n",
       "    <div>\n",
       "        <style>\n",
       "            /* Turns off some styling */\n",
       "            progress {\n",
       "                /* gets rid of default border in Firefox and Opera. */\n",
       "                border: none;\n",
       "                /* Needs to be in here for Safari polyfill so background images work as expected. */\n",
       "                background-size: auto;\n",
       "            }\n",
       "            .progress-bar-interrupted, .progress-bar-interrupted::-webkit-progress-bar {\n",
       "                background: #F44336;\n",
       "            }\n",
       "        </style>\n",
       "      <progress value='4000' class='' max='4000' style='width:300px; height:20px; vertical-align: middle;'></progress>\n",
       "      100.00% [4000/4000 00:51<00:00 Sampling chain 0, 0 divergences]\n",
       "    </div>\n",
       "    "
      ],
      "text/plain": [
       "<IPython.core.display.HTML object>"
      ]
     },
     "metadata": {},
     "output_type": "display_data"
    },
    {
     "name": "stderr",
     "output_type": "stream",
     "text": [
      "Sampling 1 chain for 3_000 tune and 1_000 draw iterations (3_000 + 1_000 draws total) took 51 seconds.\n",
      "Only one chain was sampled, this makes it impossible to run some convergence checks\n"
     ]
    },
    {
     "name": "stdout",
     "output_type": "stream",
     "text": [
      "KY\n"
     ]
    },
    {
     "name": "stderr",
     "output_type": "stream",
     "text": [
      "Auto-assigning NUTS sampler...\n",
      "Initializing NUTS using jitter+adapt_diag...\n",
      "Sequential sampling (1 chains in 1 job)\n",
      "NUTS: [serial_interval, theta_raw_steps, theta_raw_init, step_size]\n"
     ]
    },
    {
     "data": {
      "text/html": [
       "\n",
       "    <div>\n",
       "        <style>\n",
       "            /* Turns off some styling */\n",
       "            progress {\n",
       "                /* gets rid of default border in Firefox and Opera. */\n",
       "                border: none;\n",
       "                /* Needs to be in here for Safari polyfill so background images work as expected. */\n",
       "                background-size: auto;\n",
       "            }\n",
       "            .progress-bar-interrupted, .progress-bar-interrupted::-webkit-progress-bar {\n",
       "                background: #F44336;\n",
       "            }\n",
       "        </style>\n",
       "      <progress value='4000' class='' max='4000' style='width:300px; height:20px; vertical-align: middle;'></progress>\n",
       "      100.00% [4000/4000 00:50<00:00 Sampling chain 0, 1 divergences]\n",
       "    </div>\n",
       "    "
      ],
      "text/plain": [
       "<IPython.core.display.HTML object>"
      ]
     },
     "metadata": {},
     "output_type": "display_data"
    },
    {
     "name": "stderr",
     "output_type": "stream",
     "text": [
      "Sampling 1 chain for 3_000 tune and 1_000 draw iterations (3_000 + 1_000 draws total) took 51 seconds.\n",
      "There was 1 divergence after tuning. Increase `target_accept` or reparameterize.\n",
      "Only one chain was sampled, this makes it impossible to run some convergence checks\n"
     ]
    },
    {
     "name": "stdout",
     "output_type": "stream",
     "text": [
      "LA\n"
     ]
    },
    {
     "name": "stderr",
     "output_type": "stream",
     "text": [
      "Auto-assigning NUTS sampler...\n",
      "Initializing NUTS using jitter+adapt_diag...\n",
      "Sequential sampling (1 chains in 1 job)\n",
      "NUTS: [serial_interval, theta_raw_steps, theta_raw_init, step_size]\n"
     ]
    },
    {
     "data": {
      "text/html": [
       "\n",
       "    <div>\n",
       "        <style>\n",
       "            /* Turns off some styling */\n",
       "            progress {\n",
       "                /* gets rid of default border in Firefox and Opera. */\n",
       "                border: none;\n",
       "                /* Needs to be in here for Safari polyfill so background images work as expected. */\n",
       "                background-size: auto;\n",
       "            }\n",
       "            .progress-bar-interrupted, .progress-bar-interrupted::-webkit-progress-bar {\n",
       "                background: #F44336;\n",
       "            }\n",
       "        </style>\n",
       "      <progress value='4000' class='' max='4000' style='width:300px; height:20px; vertical-align: middle;'></progress>\n",
       "      100.00% [4000/4000 02:51<00:00 Sampling chain 0, 0 divergences]\n",
       "    </div>\n",
       "    "
      ],
      "text/plain": [
       "<IPython.core.display.HTML object>"
      ]
     },
     "metadata": {},
     "output_type": "display_data"
    },
    {
     "name": "stderr",
     "output_type": "stream",
     "text": [
      "Sampling 1 chain for 3_000 tune and 1_000 draw iterations (3_000 + 1_000 draws total) took 172 seconds.\n",
      "Only one chain was sampled, this makes it impossible to run some convergence checks\n"
     ]
    },
    {
     "name": "stdout",
     "output_type": "stream",
     "text": [
      "MA\n"
     ]
    },
    {
     "name": "stderr",
     "output_type": "stream",
     "text": [
      "Auto-assigning NUTS sampler...\n",
      "Initializing NUTS using jitter+adapt_diag...\n",
      "Sequential sampling (1 chains in 1 job)\n",
      "NUTS: [serial_interval, theta_raw_steps, theta_raw_init, step_size]\n"
     ]
    },
    {
     "data": {
      "text/html": [
       "\n",
       "    <div>\n",
       "        <style>\n",
       "            /* Turns off some styling */\n",
       "            progress {\n",
       "                /* gets rid of default border in Firefox and Opera. */\n",
       "                border: none;\n",
       "                /* Needs to be in here for Safari polyfill so background images work as expected. */\n",
       "                background-size: auto;\n",
       "            }\n",
       "            .progress-bar-interrupted, .progress-bar-interrupted::-webkit-progress-bar {\n",
       "                background: #F44336;\n",
       "            }\n",
       "        </style>\n",
       "      <progress value='4000' class='' max='4000' style='width:300px; height:20px; vertical-align: middle;'></progress>\n",
       "      100.00% [4000/4000 03:12<00:00 Sampling chain 0, 0 divergences]\n",
       "    </div>\n",
       "    "
      ],
      "text/plain": [
       "<IPython.core.display.HTML object>"
      ]
     },
     "metadata": {},
     "output_type": "display_data"
    },
    {
     "name": "stderr",
     "output_type": "stream",
     "text": [
      "Sampling 1 chain for 3_000 tune and 1_000 draw iterations (3_000 + 1_000 draws total) took 193 seconds.\n",
      "Only one chain was sampled, this makes it impossible to run some convergence checks\n"
     ]
    },
    {
     "name": "stdout",
     "output_type": "stream",
     "text": [
      "MD\n"
     ]
    },
    {
     "name": "stderr",
     "output_type": "stream",
     "text": [
      "Auto-assigning NUTS sampler...\n",
      "Initializing NUTS using jitter+adapt_diag...\n",
      "Sequential sampling (1 chains in 1 job)\n",
      "NUTS: [serial_interval, theta_raw_steps, theta_raw_init, step_size]\n"
     ]
    },
    {
     "data": {
      "text/html": [
       "\n",
       "    <div>\n",
       "        <style>\n",
       "            /* Turns off some styling */\n",
       "            progress {\n",
       "                /* gets rid of default border in Firefox and Opera. */\n",
       "                border: none;\n",
       "                /* Needs to be in here for Safari polyfill so background images work as expected. */\n",
       "                background-size: auto;\n",
       "            }\n",
       "            .progress-bar-interrupted, .progress-bar-interrupted::-webkit-progress-bar {\n",
       "                background: #F44336;\n",
       "            }\n",
       "        </style>\n",
       "      <progress value='4000' class='' max='4000' style='width:300px; height:20px; vertical-align: middle;'></progress>\n",
       "      100.00% [4000/4000 01:42<00:00 Sampling chain 0, 0 divergences]\n",
       "    </div>\n",
       "    "
      ],
      "text/plain": [
       "<IPython.core.display.HTML object>"
      ]
     },
     "metadata": {},
     "output_type": "display_data"
    },
    {
     "name": "stderr",
     "output_type": "stream",
     "text": [
      "Sampling 1 chain for 3_000 tune and 1_000 draw iterations (3_000 + 1_000 draws total) took 102 seconds.\n",
      "Only one chain was sampled, this makes it impossible to run some convergence checks\n"
     ]
    },
    {
     "name": "stdout",
     "output_type": "stream",
     "text": [
      "ME\n"
     ]
    },
    {
     "name": "stderr",
     "output_type": "stream",
     "text": [
      "Auto-assigning NUTS sampler...\n",
      "Initializing NUTS using jitter+adapt_diag...\n",
      "Sequential sampling (1 chains in 1 job)\n",
      "NUTS: [serial_interval, theta_raw_steps, theta_raw_init, step_size]\n"
     ]
    },
    {
     "data": {
      "text/html": [
       "\n",
       "    <div>\n",
       "        <style>\n",
       "            /* Turns off some styling */\n",
       "            progress {\n",
       "                /* gets rid of default border in Firefox and Opera. */\n",
       "                border: none;\n",
       "                /* Needs to be in here for Safari polyfill so background images work as expected. */\n",
       "                background-size: auto;\n",
       "            }\n",
       "            .progress-bar-interrupted, .progress-bar-interrupted::-webkit-progress-bar {\n",
       "                background: #F44336;\n",
       "            }\n",
       "        </style>\n",
       "      <progress value='4000' class='' max='4000' style='width:300px; height:20px; vertical-align: middle;'></progress>\n",
       "      100.00% [4000/4000 00:29<00:00 Sampling chain 0, 3 divergences]\n",
       "    </div>\n",
       "    "
      ],
      "text/plain": [
       "<IPython.core.display.HTML object>"
      ]
     },
     "metadata": {},
     "output_type": "display_data"
    },
    {
     "name": "stderr",
     "output_type": "stream",
     "text": [
      "Sampling 1 chain for 3_000 tune and 1_000 draw iterations (3_000 + 1_000 draws total) took 30 seconds.\n",
      "There were 3 divergences after tuning. Increase `target_accept` or reparameterize.\n",
      "Only one chain was sampled, this makes it impossible to run some convergence checks\n"
     ]
    },
    {
     "name": "stdout",
     "output_type": "stream",
     "text": [
      "MI\n"
     ]
    },
    {
     "name": "stderr",
     "output_type": "stream",
     "text": [
      "Auto-assigning NUTS sampler...\n",
      "Initializing NUTS using jitter+adapt_diag...\n",
      "Sequential sampling (1 chains in 1 job)\n",
      "NUTS: [serial_interval, theta_raw_steps, theta_raw_init, step_size]\n"
     ]
    },
    {
     "data": {
      "text/html": [
       "\n",
       "    <div>\n",
       "        <style>\n",
       "            /* Turns off some styling */\n",
       "            progress {\n",
       "                /* gets rid of default border in Firefox and Opera. */\n",
       "                border: none;\n",
       "                /* Needs to be in here for Safari polyfill so background images work as expected. */\n",
       "                background-size: auto;\n",
       "            }\n",
       "            .progress-bar-interrupted, .progress-bar-interrupted::-webkit-progress-bar {\n",
       "                background: #F44336;\n",
       "            }\n",
       "        </style>\n",
       "      <progress value='4000' class='' max='4000' style='width:300px; height:20px; vertical-align: middle;'></progress>\n",
       "      100.00% [4000/4000 02:01<00:00 Sampling chain 0, 0 divergences]\n",
       "    </div>\n",
       "    "
      ],
      "text/plain": [
       "<IPython.core.display.HTML object>"
      ]
     },
     "metadata": {},
     "output_type": "display_data"
    },
    {
     "name": "stderr",
     "output_type": "stream",
     "text": [
      "Sampling 1 chain for 3_000 tune and 1_000 draw iterations (3_000 + 1_000 draws total) took 122 seconds.\n",
      "Only one chain was sampled, this makes it impossible to run some convergence checks\n"
     ]
    },
    {
     "name": "stdout",
     "output_type": "stream",
     "text": [
      "MN\n"
     ]
    },
    {
     "name": "stderr",
     "output_type": "stream",
     "text": [
      "Auto-assigning NUTS sampler...\n",
      "Initializing NUTS using jitter+adapt_diag...\n",
      "Sequential sampling (1 chains in 1 job)\n",
      "NUTS: [serial_interval, theta_raw_steps, theta_raw_init, step_size]\n"
     ]
    },
    {
     "data": {
      "text/html": [
       "\n",
       "    <div>\n",
       "        <style>\n",
       "            /* Turns off some styling */\n",
       "            progress {\n",
       "                /* gets rid of default border in Firefox and Opera. */\n",
       "                border: none;\n",
       "                /* Needs to be in here for Safari polyfill so background images work as expected. */\n",
       "                background-size: auto;\n",
       "            }\n",
       "            .progress-bar-interrupted, .progress-bar-interrupted::-webkit-progress-bar {\n",
       "                background: #F44336;\n",
       "            }\n",
       "        </style>\n",
       "      <progress value='4000' class='' max='4000' style='width:300px; height:20px; vertical-align: middle;'></progress>\n",
       "      100.00% [4000/4000 01:35<00:00 Sampling chain 0, 0 divergences]\n",
       "    </div>\n",
       "    "
      ],
      "text/plain": [
       "<IPython.core.display.HTML object>"
      ]
     },
     "metadata": {},
     "output_type": "display_data"
    },
    {
     "name": "stderr",
     "output_type": "stream",
     "text": [
      "Sampling 1 chain for 3_000 tune and 1_000 draw iterations (3_000 + 1_000 draws total) took 96 seconds.\n",
      "Only one chain was sampled, this makes it impossible to run some convergence checks\n"
     ]
    },
    {
     "name": "stdout",
     "output_type": "stream",
     "text": [
      "MO\n"
     ]
    },
    {
     "name": "stderr",
     "output_type": "stream",
     "text": [
      "Auto-assigning NUTS sampler...\n",
      "Initializing NUTS using jitter+adapt_diag...\n",
      "Sequential sampling (1 chains in 1 job)\n",
      "NUTS: [serial_interval, theta_raw_steps, theta_raw_init, step_size]\n"
     ]
    },
    {
     "data": {
      "text/html": [
       "\n",
       "    <div>\n",
       "        <style>\n",
       "            /* Turns off some styling */\n",
       "            progress {\n",
       "                /* gets rid of default border in Firefox and Opera. */\n",
       "                border: none;\n",
       "                /* Needs to be in here for Safari polyfill so background images work as expected. */\n",
       "                background-size: auto;\n",
       "            }\n",
       "            .progress-bar-interrupted, .progress-bar-interrupted::-webkit-progress-bar {\n",
       "                background: #F44336;\n",
       "            }\n",
       "        </style>\n",
       "      <progress value='4000' class='' max='4000' style='width:300px; height:20px; vertical-align: middle;'></progress>\n",
       "      100.00% [4000/4000 00:57<00:00 Sampling chain 0, 0 divergences]\n",
       "    </div>\n",
       "    "
      ],
      "text/plain": [
       "<IPython.core.display.HTML object>"
      ]
     },
     "metadata": {},
     "output_type": "display_data"
    },
    {
     "name": "stderr",
     "output_type": "stream",
     "text": [
      "Sampling 1 chain for 3_000 tune and 1_000 draw iterations (3_000 + 1_000 draws total) took 57 seconds.\n",
      "Only one chain was sampled, this makes it impossible to run some convergence checks\n"
     ]
    },
    {
     "name": "stdout",
     "output_type": "stream",
     "text": [
      "MS\n"
     ]
    },
    {
     "name": "stderr",
     "output_type": "stream",
     "text": [
      "Auto-assigning NUTS sampler...\n",
      "Initializing NUTS using jitter+adapt_diag...\n",
      "Sequential sampling (1 chains in 1 job)\n",
      "NUTS: [serial_interval, theta_raw_steps, theta_raw_init, step_size]\n"
     ]
    },
    {
     "data": {
      "text/html": [
       "\n",
       "    <div>\n",
       "        <style>\n",
       "            /* Turns off some styling */\n",
       "            progress {\n",
       "                /* gets rid of default border in Firefox and Opera. */\n",
       "                border: none;\n",
       "                /* Needs to be in here for Safari polyfill so background images work as expected. */\n",
       "                background-size: auto;\n",
       "            }\n",
       "            .progress-bar-interrupted, .progress-bar-interrupted::-webkit-progress-bar {\n",
       "                background: #F44336;\n",
       "            }\n",
       "        </style>\n",
       "      <progress value='4000' class='' max='4000' style='width:300px; height:20px; vertical-align: middle;'></progress>\n",
       "      100.00% [4000/4000 00:50<00:00 Sampling chain 0, 0 divergences]\n",
       "    </div>\n",
       "    "
      ],
      "text/plain": [
       "<IPython.core.display.HTML object>"
      ]
     },
     "metadata": {},
     "output_type": "display_data"
    },
    {
     "name": "stderr",
     "output_type": "stream",
     "text": [
      "Sampling 1 chain for 3_000 tune and 1_000 draw iterations (3_000 + 1_000 draws total) took 50 seconds.\n",
      "Only one chain was sampled, this makes it impossible to run some convergence checks\n"
     ]
    },
    {
     "name": "stdout",
     "output_type": "stream",
     "text": [
      "MT\n"
     ]
    },
    {
     "name": "stderr",
     "output_type": "stream",
     "text": [
      "Auto-assigning NUTS sampler...\n",
      "Initializing NUTS using jitter+adapt_diag...\n",
      "Sequential sampling (1 chains in 1 job)\n",
      "NUTS: [serial_interval, theta_raw_steps, theta_raw_init, step_size]\n"
     ]
    },
    {
     "data": {
      "text/html": [
       "\n",
       "    <div>\n",
       "        <style>\n",
       "            /* Turns off some styling */\n",
       "            progress {\n",
       "                /* gets rid of default border in Firefox and Opera. */\n",
       "                border: none;\n",
       "                /* Needs to be in here for Safari polyfill so background images work as expected. */\n",
       "                background-size: auto;\n",
       "            }\n",
       "            .progress-bar-interrupted, .progress-bar-interrupted::-webkit-progress-bar {\n",
       "                background: #F44336;\n",
       "            }\n",
       "        </style>\n",
       "      <progress value='4000' class='' max='4000' style='width:300px; height:20px; vertical-align: middle;'></progress>\n",
       "      100.00% [4000/4000 00:23<00:00 Sampling chain 0, 0 divergences]\n",
       "    </div>\n",
       "    "
      ],
      "text/plain": [
       "<IPython.core.display.HTML object>"
      ]
     },
     "metadata": {},
     "output_type": "display_data"
    },
    {
     "name": "stderr",
     "output_type": "stream",
     "text": [
      "Sampling 1 chain for 3_000 tune and 1_000 draw iterations (3_000 + 1_000 draws total) took 24 seconds.\n",
      "Only one chain was sampled, this makes it impossible to run some convergence checks\n"
     ]
    },
    {
     "name": "stdout",
     "output_type": "stream",
     "text": [
      "NC\n"
     ]
    },
    {
     "name": "stderr",
     "output_type": "stream",
     "text": [
      "Auto-assigning NUTS sampler...\n",
      "Initializing NUTS using jitter+adapt_diag...\n",
      "Sequential sampling (1 chains in 1 job)\n",
      "NUTS: [serial_interval, theta_raw_steps, theta_raw_init, step_size]\n"
     ]
    },
    {
     "data": {
      "text/html": [
       "\n",
       "    <div>\n",
       "        <style>\n",
       "            /* Turns off some styling */\n",
       "            progress {\n",
       "                /* gets rid of default border in Firefox and Opera. */\n",
       "                border: none;\n",
       "                /* Needs to be in here for Safari polyfill so background images work as expected. */\n",
       "                background-size: auto;\n",
       "            }\n",
       "            .progress-bar-interrupted, .progress-bar-interrupted::-webkit-progress-bar {\n",
       "                background: #F44336;\n",
       "            }\n",
       "        </style>\n",
       "      <progress value='4000' class='' max='4000' style='width:300px; height:20px; vertical-align: middle;'></progress>\n",
       "      100.00% [4000/4000 01:29<00:00 Sampling chain 0, 3 divergences]\n",
       "    </div>\n",
       "    "
      ],
      "text/plain": [
       "<IPython.core.display.HTML object>"
      ]
     },
     "metadata": {},
     "output_type": "display_data"
    },
    {
     "name": "stderr",
     "output_type": "stream",
     "text": [
      "Sampling 1 chain for 3_000 tune and 1_000 draw iterations (3_000 + 1_000 draws total) took 90 seconds.\n",
      "There were 3 divergences after tuning. Increase `target_accept` or reparameterize.\n",
      "Only one chain was sampled, this makes it impossible to run some convergence checks\n"
     ]
    },
    {
     "name": "stdout",
     "output_type": "stream",
     "text": [
      "ND\n"
     ]
    },
    {
     "name": "stderr",
     "output_type": "stream",
     "text": [
      "Auto-assigning NUTS sampler...\n",
      "Initializing NUTS using jitter+adapt_diag...\n",
      "Sequential sampling (1 chains in 1 job)\n",
      "NUTS: [serial_interval, theta_raw_steps, theta_raw_init, step_size]\n"
     ]
    },
    {
     "data": {
      "text/html": [
       "\n",
       "    <div>\n",
       "        <style>\n",
       "            /* Turns off some styling */\n",
       "            progress {\n",
       "                /* gets rid of default border in Firefox and Opera. */\n",
       "                border: none;\n",
       "                /* Needs to be in here for Safari polyfill so background images work as expected. */\n",
       "                background-size: auto;\n",
       "            }\n",
       "            .progress-bar-interrupted, .progress-bar-interrupted::-webkit-progress-bar {\n",
       "                background: #F44336;\n",
       "            }\n",
       "        </style>\n",
       "      <progress value='4000' class='' max='4000' style='width:300px; height:20px; vertical-align: middle;'></progress>\n",
       "      100.00% [4000/4000 00:28<00:00 Sampling chain 0, 3 divergences]\n",
       "    </div>\n",
       "    "
      ],
      "text/plain": [
       "<IPython.core.display.HTML object>"
      ]
     },
     "metadata": {},
     "output_type": "display_data"
    },
    {
     "name": "stderr",
     "output_type": "stream",
     "text": [
      "Sampling 1 chain for 3_000 tune and 1_000 draw iterations (3_000 + 1_000 draws total) took 29 seconds.\n",
      "There were 3 divergences after tuning. Increase `target_accept` or reparameterize.\n",
      "Only one chain was sampled, this makes it impossible to run some convergence checks\n"
     ]
    },
    {
     "name": "stdout",
     "output_type": "stream",
     "text": [
      "NE\n"
     ]
    },
    {
     "name": "stderr",
     "output_type": "stream",
     "text": [
      "Auto-assigning NUTS sampler...\n",
      "Initializing NUTS using jitter+adapt_diag...\n",
      "Sequential sampling (1 chains in 1 job)\n",
      "NUTS: [serial_interval, theta_raw_steps, theta_raw_init, step_size]\n"
     ]
    },
    {
     "data": {
      "text/html": [
       "\n",
       "    <div>\n",
       "        <style>\n",
       "            /* Turns off some styling */\n",
       "            progress {\n",
       "                /* gets rid of default border in Firefox and Opera. */\n",
       "                border: none;\n",
       "                /* Needs to be in here for Safari polyfill so background images work as expected. */\n",
       "                background-size: auto;\n",
       "            }\n",
       "            .progress-bar-interrupted, .progress-bar-interrupted::-webkit-progress-bar {\n",
       "                background: #F44336;\n",
       "            }\n",
       "        </style>\n",
       "      <progress value='4000' class='' max='4000' style='width:300px; height:20px; vertical-align: middle;'></progress>\n",
       "      100.00% [4000/4000 00:56<00:00 Sampling chain 0, 0 divergences]\n",
       "    </div>\n",
       "    "
      ],
      "text/plain": [
       "<IPython.core.display.HTML object>"
      ]
     },
     "metadata": {},
     "output_type": "display_data"
    },
    {
     "name": "stderr",
     "output_type": "stream",
     "text": [
      "Sampling 1 chain for 3_000 tune and 1_000 draw iterations (3_000 + 1_000 draws total) took 57 seconds.\n",
      "Only one chain was sampled, this makes it impossible to run some convergence checks\n"
     ]
    },
    {
     "name": "stdout",
     "output_type": "stream",
     "text": [
      "NH\n"
     ]
    },
    {
     "name": "stderr",
     "output_type": "stream",
     "text": [
      "Auto-assigning NUTS sampler...\n",
      "Initializing NUTS using jitter+adapt_diag...\n",
      "Sequential sampling (1 chains in 1 job)\n",
      "NUTS: [serial_interval, theta_raw_steps, theta_raw_init, step_size]\n"
     ]
    },
    {
     "data": {
      "text/html": [
       "\n",
       "    <div>\n",
       "        <style>\n",
       "            /* Turns off some styling */\n",
       "            progress {\n",
       "                /* gets rid of default border in Firefox and Opera. */\n",
       "                border: none;\n",
       "                /* Needs to be in here for Safari polyfill so background images work as expected. */\n",
       "                background-size: auto;\n",
       "            }\n",
       "            .progress-bar-interrupted, .progress-bar-interrupted::-webkit-progress-bar {\n",
       "                background: #F44336;\n",
       "            }\n",
       "        </style>\n",
       "      <progress value='4000' class='' max='4000' style='width:300px; height:20px; vertical-align: middle;'></progress>\n",
       "      100.00% [4000/4000 00:31<00:00 Sampling chain 0, 1 divergences]\n",
       "    </div>\n",
       "    "
      ],
      "text/plain": [
       "<IPython.core.display.HTML object>"
      ]
     },
     "metadata": {},
     "output_type": "display_data"
    },
    {
     "name": "stderr",
     "output_type": "stream",
     "text": [
      "Sampling 1 chain for 3_000 tune and 1_000 draw iterations (3_000 + 1_000 draws total) took 32 seconds.\n",
      "There was 1 divergence after tuning. Increase `target_accept` or reparameterize.\n",
      "Only one chain was sampled, this makes it impossible to run some convergence checks\n"
     ]
    },
    {
     "name": "stdout",
     "output_type": "stream",
     "text": [
      "NJ\n"
     ]
    },
    {
     "name": "stderr",
     "output_type": "stream",
     "text": [
      "Auto-assigning NUTS sampler...\n",
      "Initializing NUTS using jitter+adapt_diag...\n",
      "Sequential sampling (1 chains in 1 job)\n",
      "NUTS: [serial_interval, theta_raw_steps, theta_raw_init, step_size]\n"
     ]
    },
    {
     "data": {
      "text/html": [
       "\n",
       "    <div>\n",
       "        <style>\n",
       "            /* Turns off some styling */\n",
       "            progress {\n",
       "                /* gets rid of default border in Firefox and Opera. */\n",
       "                border: none;\n",
       "                /* Needs to be in here for Safari polyfill so background images work as expected. */\n",
       "                background-size: auto;\n",
       "            }\n",
       "            .progress-bar-interrupted, .progress-bar-interrupted::-webkit-progress-bar {\n",
       "                background: #F44336;\n",
       "            }\n",
       "        </style>\n",
       "      <progress value='4000' class='' max='4000' style='width:300px; height:20px; vertical-align: middle;'></progress>\n",
       "      100.00% [4000/4000 03:04<00:00 Sampling chain 0, 0 divergences]\n",
       "    </div>\n",
       "    "
      ],
      "text/plain": [
       "<IPython.core.display.HTML object>"
      ]
     },
     "metadata": {},
     "output_type": "display_data"
    },
    {
     "name": "stderr",
     "output_type": "stream",
     "text": [
      "Sampling 1 chain for 3_000 tune and 1_000 draw iterations (3_000 + 1_000 draws total) took 184 seconds.\n",
      "Only one chain was sampled, this makes it impossible to run some convergence checks\n"
     ]
    },
    {
     "name": "stdout",
     "output_type": "stream",
     "text": [
      "NM\n"
     ]
    },
    {
     "name": "stderr",
     "output_type": "stream",
     "text": [
      "Auto-assigning NUTS sampler...\n",
      "Initializing NUTS using jitter+adapt_diag...\n",
      "Sequential sampling (1 chains in 1 job)\n",
      "NUTS: [serial_interval, theta_raw_steps, theta_raw_init, step_size]\n"
     ]
    },
    {
     "data": {
      "text/html": [
       "\n",
       "    <div>\n",
       "        <style>\n",
       "            /* Turns off some styling */\n",
       "            progress {\n",
       "                /* gets rid of default border in Firefox and Opera. */\n",
       "                border: none;\n",
       "                /* Needs to be in here for Safari polyfill so background images work as expected. */\n",
       "                background-size: auto;\n",
       "            }\n",
       "            .progress-bar-interrupted, .progress-bar-interrupted::-webkit-progress-bar {\n",
       "                background: #F44336;\n",
       "            }\n",
       "        </style>\n",
       "      <progress value='4000' class='' max='4000' style='width:300px; height:20px; vertical-align: middle;'></progress>\n",
       "      100.00% [4000/4000 00:46<00:00 Sampling chain 0, 0 divergences]\n",
       "    </div>\n",
       "    "
      ],
      "text/plain": [
       "<IPython.core.display.HTML object>"
      ]
     },
     "metadata": {},
     "output_type": "display_data"
    },
    {
     "name": "stderr",
     "output_type": "stream",
     "text": [
      "Sampling 1 chain for 3_000 tune and 1_000 draw iterations (3_000 + 1_000 draws total) took 47 seconds.\n",
      "Only one chain was sampled, this makes it impossible to run some convergence checks\n"
     ]
    },
    {
     "name": "stdout",
     "output_type": "stream",
     "text": [
      "NV\n"
     ]
    },
    {
     "name": "stderr",
     "output_type": "stream",
     "text": [
      "Auto-assigning NUTS sampler...\n",
      "Initializing NUTS using jitter+adapt_diag...\n",
      "Sequential sampling (1 chains in 1 job)\n",
      "NUTS: [serial_interval, theta_raw_steps, theta_raw_init, step_size]\n"
     ]
    },
    {
     "data": {
      "text/html": [
       "\n",
       "    <div>\n",
       "        <style>\n",
       "            /* Turns off some styling */\n",
       "            progress {\n",
       "                /* gets rid of default border in Firefox and Opera. */\n",
       "                border: none;\n",
       "                /* Needs to be in here for Safari polyfill so background images work as expected. */\n",
       "                background-size: auto;\n",
       "            }\n",
       "            .progress-bar-interrupted, .progress-bar-interrupted::-webkit-progress-bar {\n",
       "                background: #F44336;\n",
       "            }\n",
       "        </style>\n",
       "      <progress value='4000' class='' max='4000' style='width:300px; height:20px; vertical-align: middle;'></progress>\n",
       "      100.00% [4000/4000 00:51<00:00 Sampling chain 0, 0 divergences]\n",
       "    </div>\n",
       "    "
      ],
      "text/plain": [
       "<IPython.core.display.HTML object>"
      ]
     },
     "metadata": {},
     "output_type": "display_data"
    },
    {
     "name": "stderr",
     "output_type": "stream",
     "text": [
      "Sampling 1 chain for 3_000 tune and 1_000 draw iterations (3_000 + 1_000 draws total) took 52 seconds.\n",
      "Only one chain was sampled, this makes it impossible to run some convergence checks\n"
     ]
    },
    {
     "name": "stdout",
     "output_type": "stream",
     "text": [
      "NY\n"
     ]
    },
    {
     "name": "stderr",
     "output_type": "stream",
     "text": [
      "Auto-assigning NUTS sampler...\n",
      "Initializing NUTS using jitter+adapt_diag...\n",
      "Sequential sampling (1 chains in 1 job)\n",
      "NUTS: [serial_interval, theta_raw_steps, theta_raw_init, step_size]\n"
     ]
    },
    {
     "data": {
      "text/html": [
       "\n",
       "    <div>\n",
       "        <style>\n",
       "            /* Turns off some styling */\n",
       "            progress {\n",
       "                /* gets rid of default border in Firefox and Opera. */\n",
       "                border: none;\n",
       "                /* Needs to be in here for Safari polyfill so background images work as expected. */\n",
       "                background-size: auto;\n",
       "            }\n",
       "            .progress-bar-interrupted, .progress-bar-interrupted::-webkit-progress-bar {\n",
       "                background: #F44336;\n",
       "            }\n",
       "        </style>\n",
       "      <progress value='4000' class='' max='4000' style='width:300px; height:20px; vertical-align: middle;'></progress>\n",
       "      100.00% [4000/4000 05:20<00:00 Sampling chain 0, 0 divergences]\n",
       "    </div>\n",
       "    "
      ],
      "text/plain": [
       "<IPython.core.display.HTML object>"
      ]
     },
     "metadata": {},
     "output_type": "display_data"
    },
    {
     "name": "stderr",
     "output_type": "stream",
     "text": [
      "Sampling 1 chain for 3_000 tune and 1_000 draw iterations (3_000 + 1_000 draws total) took 320 seconds.\n",
      "Only one chain was sampled, this makes it impossible to run some convergence checks\n"
     ]
    },
    {
     "name": "stdout",
     "output_type": "stream",
     "text": [
      "OH\n"
     ]
    },
    {
     "name": "stderr",
     "output_type": "stream",
     "text": [
      "Auto-assigning NUTS sampler...\n",
      "Initializing NUTS using jitter+adapt_diag...\n",
      "Sequential sampling (1 chains in 1 job)\n",
      "NUTS: [serial_interval, theta_raw_steps, theta_raw_init, step_size]\n"
     ]
    },
    {
     "data": {
      "text/html": [
       "\n",
       "    <div>\n",
       "        <style>\n",
       "            /* Turns off some styling */\n",
       "            progress {\n",
       "                /* gets rid of default border in Firefox and Opera. */\n",
       "                border: none;\n",
       "                /* Needs to be in here for Safari polyfill so background images work as expected. */\n",
       "                background-size: auto;\n",
       "            }\n",
       "            .progress-bar-interrupted, .progress-bar-interrupted::-webkit-progress-bar {\n",
       "                background: #F44336;\n",
       "            }\n",
       "        </style>\n",
       "      <progress value='4000' class='' max='4000' style='width:300px; height:20px; vertical-align: middle;'></progress>\n",
       "      100.00% [4000/4000 01:40<00:00 Sampling chain 0, 0 divergences]\n",
       "    </div>\n",
       "    "
      ],
      "text/plain": [
       "<IPython.core.display.HTML object>"
      ]
     },
     "metadata": {},
     "output_type": "display_data"
    },
    {
     "name": "stderr",
     "output_type": "stream",
     "text": [
      "Sampling 1 chain for 3_000 tune and 1_000 draw iterations (3_000 + 1_000 draws total) took 100 seconds.\n",
      "Only one chain was sampled, this makes it impossible to run some convergence checks\n"
     ]
    },
    {
     "name": "stdout",
     "output_type": "stream",
     "text": [
      "OK\n"
     ]
    },
    {
     "name": "stderr",
     "output_type": "stream",
     "text": [
      "Auto-assigning NUTS sampler...\n",
      "Initializing NUTS using jitter+adapt_diag...\n",
      "Sequential sampling (1 chains in 1 job)\n",
      "NUTS: [serial_interval, theta_raw_steps, theta_raw_init, step_size]\n"
     ]
    },
    {
     "data": {
      "text/html": [
       "\n",
       "    <div>\n",
       "        <style>\n",
       "            /* Turns off some styling */\n",
       "            progress {\n",
       "                /* gets rid of default border in Firefox and Opera. */\n",
       "                border: none;\n",
       "                /* Needs to be in here for Safari polyfill so background images work as expected. */\n",
       "                background-size: auto;\n",
       "            }\n",
       "            .progress-bar-interrupted, .progress-bar-interrupted::-webkit-progress-bar {\n",
       "                background: #F44336;\n",
       "            }\n",
       "        </style>\n",
       "      <progress value='4000' class='' max='4000' style='width:300px; height:20px; vertical-align: middle;'></progress>\n",
       "      100.00% [4000/4000 00:52<00:00 Sampling chain 0, 5 divergences]\n",
       "    </div>\n",
       "    "
      ],
      "text/plain": [
       "<IPython.core.display.HTML object>"
      ]
     },
     "metadata": {},
     "output_type": "display_data"
    },
    {
     "name": "stderr",
     "output_type": "stream",
     "text": [
      "Sampling 1 chain for 3_000 tune and 1_000 draw iterations (3_000 + 1_000 draws total) took 53 seconds.\n",
      "There were 5 divergences after tuning. Increase `target_accept` or reparameterize.\n",
      "Only one chain was sampled, this makes it impossible to run some convergence checks\n"
     ]
    },
    {
     "name": "stdout",
     "output_type": "stream",
     "text": [
      "OR\n"
     ]
    },
    {
     "name": "stderr",
     "output_type": "stream",
     "text": [
      "Auto-assigning NUTS sampler...\n",
      "Initializing NUTS using jitter+adapt_diag...\n",
      "Sequential sampling (1 chains in 1 job)\n",
      "NUTS: [serial_interval, theta_raw_steps, theta_raw_init, step_size]\n"
     ]
    },
    {
     "data": {
      "text/html": [
       "\n",
       "    <div>\n",
       "        <style>\n",
       "            /* Turns off some styling */\n",
       "            progress {\n",
       "                /* gets rid of default border in Firefox and Opera. */\n",
       "                border: none;\n",
       "                /* Needs to be in here for Safari polyfill so background images work as expected. */\n",
       "                background-size: auto;\n",
       "            }\n",
       "            .progress-bar-interrupted, .progress-bar-interrupted::-webkit-progress-bar {\n",
       "                background: #F44336;\n",
       "            }\n",
       "        </style>\n",
       "      <progress value='4000' class='' max='4000' style='width:300px; height:20px; vertical-align: middle;'></progress>\n",
       "      100.00% [4000/4000 00:47<00:00 Sampling chain 0, 0 divergences]\n",
       "    </div>\n",
       "    "
      ],
      "text/plain": [
       "<IPython.core.display.HTML object>"
      ]
     },
     "metadata": {},
     "output_type": "display_data"
    },
    {
     "name": "stderr",
     "output_type": "stream",
     "text": [
      "Sampling 1 chain for 3_000 tune and 1_000 draw iterations (3_000 + 1_000 draws total) took 48 seconds.\n",
      "Only one chain was sampled, this makes it impossible to run some convergence checks\n"
     ]
    },
    {
     "name": "stdout",
     "output_type": "stream",
     "text": [
      "PA\n"
     ]
    },
    {
     "name": "stderr",
     "output_type": "stream",
     "text": [
      "Auto-assigning NUTS sampler...\n",
      "Initializing NUTS using jitter+adapt_diag...\n",
      "Sequential sampling (1 chains in 1 job)\n",
      "NUTS: [serial_interval, theta_raw_steps, theta_raw_init, step_size]\n"
     ]
    },
    {
     "data": {
      "text/html": [
       "\n",
       "    <div>\n",
       "        <style>\n",
       "            /* Turns off some styling */\n",
       "            progress {\n",
       "                /* gets rid of default border in Firefox and Opera. */\n",
       "                border: none;\n",
       "                /* Needs to be in here for Safari polyfill so background images work as expected. */\n",
       "                background-size: auto;\n",
       "            }\n",
       "            .progress-bar-interrupted, .progress-bar-interrupted::-webkit-progress-bar {\n",
       "                background: #F44336;\n",
       "            }\n",
       "        </style>\n",
       "      <progress value='4000' class='' max='4000' style='width:300px; height:20px; vertical-align: middle;'></progress>\n",
       "      100.00% [4000/4000 01:45<00:00 Sampling chain 0, 0 divergences]\n",
       "    </div>\n",
       "    "
      ],
      "text/plain": [
       "<IPython.core.display.HTML object>"
      ]
     },
     "metadata": {},
     "output_type": "display_data"
    },
    {
     "name": "stderr",
     "output_type": "stream",
     "text": [
      "Sampling 1 chain for 3_000 tune and 1_000 draw iterations (3_000 + 1_000 draws total) took 105 seconds.\n",
      "Only one chain was sampled, this makes it impossible to run some convergence checks\n"
     ]
    },
    {
     "name": "stdout",
     "output_type": "stream",
     "text": [
      "RI\n"
     ]
    },
    {
     "name": "stderr",
     "output_type": "stream",
     "text": [
      "Auto-assigning NUTS sampler...\n",
      "Initializing NUTS using jitter+adapt_diag...\n",
      "Sequential sampling (1 chains in 1 job)\n",
      "NUTS: [serial_interval, theta_raw_steps, theta_raw_init, step_size]\n"
     ]
    },
    {
     "data": {
      "text/html": [
       "\n",
       "    <div>\n",
       "        <style>\n",
       "            /* Turns off some styling */\n",
       "            progress {\n",
       "                /* gets rid of default border in Firefox and Opera. */\n",
       "                border: none;\n",
       "                /* Needs to be in here for Safari polyfill so background images work as expected. */\n",
       "                background-size: auto;\n",
       "            }\n",
       "            .progress-bar-interrupted, .progress-bar-interrupted::-webkit-progress-bar {\n",
       "                background: #F44336;\n",
       "            }\n",
       "        </style>\n",
       "      <progress value='4000' class='' max='4000' style='width:300px; height:20px; vertical-align: middle;'></progress>\n",
       "      100.00% [4000/4000 00:59<00:00 Sampling chain 0, 0 divergences]\n",
       "    </div>\n",
       "    "
      ],
      "text/plain": [
       "<IPython.core.display.HTML object>"
      ]
     },
     "metadata": {},
     "output_type": "display_data"
    },
    {
     "name": "stderr",
     "output_type": "stream",
     "text": [
      "Sampling 1 chain for 3_000 tune and 1_000 draw iterations (3_000 + 1_000 draws total) took 59 seconds.\n",
      "Only one chain was sampled, this makes it impossible to run some convergence checks\n"
     ]
    },
    {
     "name": "stdout",
     "output_type": "stream",
     "text": [
      "SC\n"
     ]
    },
    {
     "name": "stderr",
     "output_type": "stream",
     "text": [
      "Auto-assigning NUTS sampler...\n",
      "Initializing NUTS using jitter+adapt_diag...\n",
      "Sequential sampling (1 chains in 1 job)\n",
      "NUTS: [serial_interval, theta_raw_steps, theta_raw_init, step_size]\n"
     ]
    },
    {
     "data": {
      "text/html": [
       "\n",
       "    <div>\n",
       "        <style>\n",
       "            /* Turns off some styling */\n",
       "            progress {\n",
       "                /* gets rid of default border in Firefox and Opera. */\n",
       "                border: none;\n",
       "                /* Needs to be in here for Safari polyfill so background images work as expected. */\n",
       "                background-size: auto;\n",
       "            }\n",
       "            .progress-bar-interrupted, .progress-bar-interrupted::-webkit-progress-bar {\n",
       "                background: #F44336;\n",
       "            }\n",
       "        </style>\n",
       "      <progress value='4000' class='' max='4000' style='width:300px; height:20px; vertical-align: middle;'></progress>\n",
       "      100.00% [4000/4000 01:15<00:00 Sampling chain 0, 0 divergences]\n",
       "    </div>\n",
       "    "
      ],
      "text/plain": [
       "<IPython.core.display.HTML object>"
      ]
     },
     "metadata": {},
     "output_type": "display_data"
    },
    {
     "name": "stderr",
     "output_type": "stream",
     "text": [
      "Sampling 1 chain for 3_000 tune and 1_000 draw iterations (3_000 + 1_000 draws total) took 76 seconds.\n",
      "Only one chain was sampled, this makes it impossible to run some convergence checks\n"
     ]
    },
    {
     "name": "stdout",
     "output_type": "stream",
     "text": [
      "SD\n"
     ]
    },
    {
     "name": "stderr",
     "output_type": "stream",
     "text": [
      "Auto-assigning NUTS sampler...\n",
      "Initializing NUTS using jitter+adapt_diag...\n",
      "Sequential sampling (1 chains in 1 job)\n",
      "NUTS: [serial_interval, theta_raw_steps, theta_raw_init, step_size]\n"
     ]
    },
    {
     "data": {
      "text/html": [
       "\n",
       "    <div>\n",
       "        <style>\n",
       "            /* Turns off some styling */\n",
       "            progress {\n",
       "                /* gets rid of default border in Firefox and Opera. */\n",
       "                border: none;\n",
       "                /* Needs to be in here for Safari polyfill so background images work as expected. */\n",
       "                background-size: auto;\n",
       "            }\n",
       "            .progress-bar-interrupted, .progress-bar-interrupted::-webkit-progress-bar {\n",
       "                background: #F44336;\n",
       "            }\n",
       "        </style>\n",
       "      <progress value='4000' class='' max='4000' style='width:300px; height:20px; vertical-align: middle;'></progress>\n",
       "      100.00% [4000/4000 00:50<00:00 Sampling chain 0, 0 divergences]\n",
       "    </div>\n",
       "    "
      ],
      "text/plain": [
       "<IPython.core.display.HTML object>"
      ]
     },
     "metadata": {},
     "output_type": "display_data"
    },
    {
     "name": "stderr",
     "output_type": "stream",
     "text": [
      "Sampling 1 chain for 3_000 tune and 1_000 draw iterations (3_000 + 1_000 draws total) took 50 seconds.\n",
      "Only one chain was sampled, this makes it impossible to run some convergence checks\n"
     ]
    },
    {
     "name": "stdout",
     "output_type": "stream",
     "text": [
      "TN\n"
     ]
    },
    {
     "name": "stderr",
     "output_type": "stream",
     "text": [
      "Auto-assigning NUTS sampler...\n",
      "Initializing NUTS using jitter+adapt_diag...\n",
      "Sequential sampling (1 chains in 1 job)\n",
      "NUTS: [serial_interval, theta_raw_steps, theta_raw_init, step_size]\n"
     ]
    },
    {
     "data": {
      "text/html": [
       "\n",
       "    <div>\n",
       "        <style>\n",
       "            /* Turns off some styling */\n",
       "            progress {\n",
       "                /* gets rid of default border in Firefox and Opera. */\n",
       "                border: none;\n",
       "                /* Needs to be in here for Safari polyfill so background images work as expected. */\n",
       "                background-size: auto;\n",
       "            }\n",
       "            .progress-bar-interrupted, .progress-bar-interrupted::-webkit-progress-bar {\n",
       "                background: #F44336;\n",
       "            }\n",
       "        </style>\n",
       "      <progress value='4000' class='' max='4000' style='width:300px; height:20px; vertical-align: middle;'></progress>\n",
       "      100.00% [4000/4000 01:37<00:00 Sampling chain 0, 0 divergences]\n",
       "    </div>\n",
       "    "
      ],
      "text/plain": [
       "<IPython.core.display.HTML object>"
      ]
     },
     "metadata": {},
     "output_type": "display_data"
    },
    {
     "name": "stderr",
     "output_type": "stream",
     "text": [
      "Sampling 1 chain for 3_000 tune and 1_000 draw iterations (3_000 + 1_000 draws total) took 97 seconds.\n",
      "Only one chain was sampled, this makes it impossible to run some convergence checks\n"
     ]
    },
    {
     "name": "stdout",
     "output_type": "stream",
     "text": [
      "TX\n"
     ]
    },
    {
     "name": "stderr",
     "output_type": "stream",
     "text": [
      "Auto-assigning NUTS sampler...\n",
      "Initializing NUTS using jitter+adapt_diag...\n",
      "Sequential sampling (1 chains in 1 job)\n",
      "NUTS: [serial_interval, theta_raw_steps, theta_raw_init, step_size]\n"
     ]
    },
    {
     "data": {
      "text/html": [
       "\n",
       "    <div>\n",
       "        <style>\n",
       "            /* Turns off some styling */\n",
       "            progress {\n",
       "                /* gets rid of default border in Firefox and Opera. */\n",
       "                border: none;\n",
       "                /* Needs to be in here for Safari polyfill so background images work as expected. */\n",
       "                background-size: auto;\n",
       "            }\n",
       "            .progress-bar-interrupted, .progress-bar-interrupted::-webkit-progress-bar {\n",
       "                background: #F44336;\n",
       "            }\n",
       "        </style>\n",
       "      <progress value='4000' class='' max='4000' style='width:300px; height:20px; vertical-align: middle;'></progress>\n",
       "      100.00% [4000/4000 02:17<00:00 Sampling chain 0, 0 divergences]\n",
       "    </div>\n",
       "    "
      ],
      "text/plain": [
       "<IPython.core.display.HTML object>"
      ]
     },
     "metadata": {},
     "output_type": "display_data"
    },
    {
     "name": "stderr",
     "output_type": "stream",
     "text": [
      "Sampling 1 chain for 3_000 tune and 1_000 draw iterations (3_000 + 1_000 draws total) took 137 seconds.\n",
      "Only one chain was sampled, this makes it impossible to run some convergence checks\n"
     ]
    },
    {
     "name": "stdout",
     "output_type": "stream",
     "text": [
      "UT\n"
     ]
    },
    {
     "name": "stderr",
     "output_type": "stream",
     "text": [
      "Auto-assigning NUTS sampler...\n",
      "Initializing NUTS using jitter+adapt_diag...\n",
      "Sequential sampling (1 chains in 1 job)\n",
      "NUTS: [serial_interval, theta_raw_steps, theta_raw_init, step_size]\n"
     ]
    },
    {
     "data": {
      "text/html": [
       "\n",
       "    <div>\n",
       "        <style>\n",
       "            /* Turns off some styling */\n",
       "            progress {\n",
       "                /* gets rid of default border in Firefox and Opera. */\n",
       "                border: none;\n",
       "                /* Needs to be in here for Safari polyfill so background images work as expected. */\n",
       "                background-size: auto;\n",
       "            }\n",
       "            .progress-bar-interrupted, .progress-bar-interrupted::-webkit-progress-bar {\n",
       "                background: #F44336;\n",
       "            }\n",
       "        </style>\n",
       "      <progress value='4000' class='' max='4000' style='width:300px; height:20px; vertical-align: middle;'></progress>\n",
       "      100.00% [4000/4000 00:58<00:00 Sampling chain 0, 8 divergences]\n",
       "    </div>\n",
       "    "
      ],
      "text/plain": [
       "<IPython.core.display.HTML object>"
      ]
     },
     "metadata": {},
     "output_type": "display_data"
    },
    {
     "name": "stderr",
     "output_type": "stream",
     "text": [
      "Sampling 1 chain for 3_000 tune and 1_000 draw iterations (3_000 + 1_000 draws total) took 59 seconds.\n",
      "There were 8 divergences after tuning. Increase `target_accept` or reparameterize.\n",
      "Only one chain was sampled, this makes it impossible to run some convergence checks\n"
     ]
    },
    {
     "name": "stdout",
     "output_type": "stream",
     "text": [
      "VA\n"
     ]
    },
    {
     "name": "stderr",
     "output_type": "stream",
     "text": [
      "Auto-assigning NUTS sampler...\n",
      "Initializing NUTS using jitter+adapt_diag...\n",
      "Sequential sampling (1 chains in 1 job)\n",
      "NUTS: [serial_interval, theta_raw_steps, theta_raw_init, step_size]\n"
     ]
    },
    {
     "data": {
      "text/html": [
       "\n",
       "    <div>\n",
       "        <style>\n",
       "            /* Turns off some styling */\n",
       "            progress {\n",
       "                /* gets rid of default border in Firefox and Opera. */\n",
       "                border: none;\n",
       "                /* Needs to be in here for Safari polyfill so background images work as expected. */\n",
       "                background-size: auto;\n",
       "            }\n",
       "            .progress-bar-interrupted, .progress-bar-interrupted::-webkit-progress-bar {\n",
       "                background: #F44336;\n",
       "            }\n",
       "        </style>\n",
       "      <progress value='4000' class='' max='4000' style='width:300px; height:20px; vertical-align: middle;'></progress>\n",
       "      100.00% [4000/4000 01:46<00:00 Sampling chain 0, 0 divergences]\n",
       "    </div>\n",
       "    "
      ],
      "text/plain": [
       "<IPython.core.display.HTML object>"
      ]
     },
     "metadata": {},
     "output_type": "display_data"
    },
    {
     "name": "stderr",
     "output_type": "stream",
     "text": [
      "Sampling 1 chain for 3_000 tune and 1_000 draw iterations (3_000 + 1_000 draws total) took 107 seconds.\n",
      "Only one chain was sampled, this makes it impossible to run some convergence checks\n"
     ]
    },
    {
     "name": "stdout",
     "output_type": "stream",
     "text": [
      "VT\n"
     ]
    },
    {
     "name": "stderr",
     "output_type": "stream",
     "text": [
      "Auto-assigning NUTS sampler...\n",
      "Initializing NUTS using jitter+adapt_diag...\n",
      "Sequential sampling (1 chains in 1 job)\n",
      "NUTS: [serial_interval, theta_raw_steps, theta_raw_init, step_size]\n"
     ]
    },
    {
     "data": {
      "text/html": [
       "\n",
       "    <div>\n",
       "        <style>\n",
       "            /* Turns off some styling */\n",
       "            progress {\n",
       "                /* gets rid of default border in Firefox and Opera. */\n",
       "                border: none;\n",
       "                /* Needs to be in here for Safari polyfill so background images work as expected. */\n",
       "                background-size: auto;\n",
       "            }\n",
       "            .progress-bar-interrupted, .progress-bar-interrupted::-webkit-progress-bar {\n",
       "                background: #F44336;\n",
       "            }\n",
       "        </style>\n",
       "      <progress value='4000' class='' max='4000' style='width:300px; height:20px; vertical-align: middle;'></progress>\n",
       "      100.00% [4000/4000 00:30<00:00 Sampling chain 0, 0 divergences]\n",
       "    </div>\n",
       "    "
      ],
      "text/plain": [
       "<IPython.core.display.HTML object>"
      ]
     },
     "metadata": {},
     "output_type": "display_data"
    },
    {
     "name": "stderr",
     "output_type": "stream",
     "text": [
      "Sampling 1 chain for 3_000 tune and 1_000 draw iterations (3_000 + 1_000 draws total) took 30 seconds.\n",
      "Only one chain was sampled, this makes it impossible to run some convergence checks\n"
     ]
    },
    {
     "name": "stdout",
     "output_type": "stream",
     "text": [
      "WA\n"
     ]
    },
    {
     "name": "stderr",
     "output_type": "stream",
     "text": [
      "Auto-assigning NUTS sampler...\n",
      "Initializing NUTS using jitter+adapt_diag...\n",
      "Sequential sampling (1 chains in 1 job)\n",
      "NUTS: [serial_interval, theta_raw_steps, theta_raw_init, step_size]\n"
     ]
    },
    {
     "data": {
      "text/html": [
       "\n",
       "    <div>\n",
       "        <style>\n",
       "            /* Turns off some styling */\n",
       "            progress {\n",
       "                /* gets rid of default border in Firefox and Opera. */\n",
       "                border: none;\n",
       "                /* Needs to be in here for Safari polyfill so background images work as expected. */\n",
       "                background-size: auto;\n",
       "            }\n",
       "            .progress-bar-interrupted, .progress-bar-interrupted::-webkit-progress-bar {\n",
       "                background: #F44336;\n",
       "            }\n",
       "        </style>\n",
       "      <progress value='4000' class='' max='4000' style='width:300px; height:20px; vertical-align: middle;'></progress>\n",
       "      100.00% [4000/4000 01:32<00:00 Sampling chain 0, 0 divergences]\n",
       "    </div>\n",
       "    "
      ],
      "text/plain": [
       "<IPython.core.display.HTML object>"
      ]
     },
     "metadata": {},
     "output_type": "display_data"
    },
    {
     "name": "stderr",
     "output_type": "stream",
     "text": [
      "Sampling 1 chain for 3_000 tune and 1_000 draw iterations (3_000 + 1_000 draws total) took 93 seconds.\n",
      "Only one chain was sampled, this makes it impossible to run some convergence checks\n"
     ]
    },
    {
     "name": "stdout",
     "output_type": "stream",
     "text": [
      "WI\n"
     ]
    },
    {
     "name": "stderr",
     "output_type": "stream",
     "text": [
      "Auto-assigning NUTS sampler...\n",
      "Initializing NUTS using jitter+adapt_diag...\n",
      "Sequential sampling (1 chains in 1 job)\n",
      "NUTS: [serial_interval, theta_raw_steps, theta_raw_init, step_size]\n"
     ]
    },
    {
     "data": {
      "text/html": [
       "\n",
       "    <div>\n",
       "        <style>\n",
       "            /* Turns off some styling */\n",
       "            progress {\n",
       "                /* gets rid of default border in Firefox and Opera. */\n",
       "                border: none;\n",
       "                /* Needs to be in here for Safari polyfill so background images work as expected. */\n",
       "                background-size: auto;\n",
       "            }\n",
       "            .progress-bar-interrupted, .progress-bar-interrupted::-webkit-progress-bar {\n",
       "                background: #F44336;\n",
       "            }\n",
       "        </style>\n",
       "      <progress value='4000' class='' max='4000' style='width:300px; height:20px; vertical-align: middle;'></progress>\n",
       "      100.00% [4000/4000 01:04<00:00 Sampling chain 0, 0 divergences]\n",
       "    </div>\n",
       "    "
      ],
      "text/plain": [
       "<IPython.core.display.HTML object>"
      ]
     },
     "metadata": {},
     "output_type": "display_data"
    },
    {
     "name": "stderr",
     "output_type": "stream",
     "text": [
      "Sampling 1 chain for 3_000 tune and 1_000 draw iterations (3_000 + 1_000 draws total) took 65 seconds.\n",
      "Only one chain was sampled, this makes it impossible to run some convergence checks\n"
     ]
    },
    {
     "name": "stdout",
     "output_type": "stream",
     "text": [
      "WV\n"
     ]
    },
    {
     "name": "stderr",
     "output_type": "stream",
     "text": [
      "Auto-assigning NUTS sampler...\n",
      "Initializing NUTS using jitter+adapt_diag...\n",
      "Sequential sampling (1 chains in 1 job)\n",
      "NUTS: [serial_interval, theta_raw_steps, theta_raw_init, step_size]\n"
     ]
    },
    {
     "data": {
      "text/html": [
       "\n",
       "    <div>\n",
       "        <style>\n",
       "            /* Turns off some styling */\n",
       "            progress {\n",
       "                /* gets rid of default border in Firefox and Opera. */\n",
       "                border: none;\n",
       "                /* Needs to be in here for Safari polyfill so background images work as expected. */\n",
       "                background-size: auto;\n",
       "            }\n",
       "            .progress-bar-interrupted, .progress-bar-interrupted::-webkit-progress-bar {\n",
       "                background: #F44336;\n",
       "            }\n",
       "        </style>\n",
       "      <progress value='4000' class='' max='4000' style='width:300px; height:20px; vertical-align: middle;'></progress>\n",
       "      100.00% [4000/4000 00:30<00:00 Sampling chain 0, 7 divergences]\n",
       "    </div>\n",
       "    "
      ],
      "text/plain": [
       "<IPython.core.display.HTML object>"
      ]
     },
     "metadata": {},
     "output_type": "display_data"
    },
    {
     "name": "stderr",
     "output_type": "stream",
     "text": [
      "Sampling 1 chain for 3_000 tune and 1_000 draw iterations (3_000 + 1_000 draws total) took 31 seconds.\n",
      "There were 7 divergences after tuning. Increase `target_accept` or reparameterize.\n",
      "Only one chain was sampled, this makes it impossible to run some convergence checks\n"
     ]
    },
    {
     "name": "stdout",
     "output_type": "stream",
     "text": [
      "WY\n"
     ]
    },
    {
     "name": "stderr",
     "output_type": "stream",
     "text": [
      "Auto-assigning NUTS sampler...\n",
      "Initializing NUTS using jitter+adapt_diag...\n",
      "Sequential sampling (1 chains in 1 job)\n",
      "NUTS: [serial_interval, theta_raw_steps, theta_raw_init, step_size]\n"
     ]
    },
    {
     "data": {
      "text/html": [
       "\n",
       "    <div>\n",
       "        <style>\n",
       "            /* Turns off some styling */\n",
       "            progress {\n",
       "                /* gets rid of default border in Firefox and Opera. */\n",
       "                border: none;\n",
       "                /* Needs to be in here for Safari polyfill so background images work as expected. */\n",
       "                background-size: auto;\n",
       "            }\n",
       "            .progress-bar-interrupted, .progress-bar-interrupted::-webkit-progress-bar {\n",
       "                background: #F44336;\n",
       "            }\n",
       "        </style>\n",
       "      <progress value='4000' class='' max='4000' style='width:300px; height:20px; vertical-align: middle;'></progress>\n",
       "      100.00% [4000/4000 00:29<00:00 Sampling chain 0, 0 divergences]\n",
       "    </div>\n",
       "    "
      ],
      "text/plain": [
       "<IPython.core.display.HTML object>"
      ]
     },
     "metadata": {},
     "output_type": "display_data"
    },
    {
     "name": "stderr",
     "output_type": "stream",
     "text": [
      "Sampling 1 chain for 3_000 tune and 1_000 draw iterations (3_000 + 1_000 draws total) took 29 seconds.\n",
      "Only one chain was sampled, this makes it impossible to run some convergence checks\n"
     ]
    }
   ],
   "source": [
    "for state, grp in states.groupby('state'):\n",
    "    \n",
    "    print(state)\n",
    "    \n",
    "    if (state in models):\n",
    "        print(f'Skipping {state}, already in cache')\n",
    "        continue\n",
    "    \n",
    "    models[state] = create_and_run_model(state, grp.droplevel(0))"
   ]
  },
  {
   "cell_type": "markdown",
   "metadata": {},
   "source": [
    "### Handle Divergences"
   ]
  },
  {
   "cell_type": "code",
   "execution_count": 196,
   "metadata": {},
   "outputs": [
    {
     "name": "stdout",
     "output_type": "stream",
     "text": [
      "Diverging states:\n"
     ]
    },
    {
     "data": {
      "text/plain": [
       "AR    2\n",
       "KY    1\n",
       "ME    3\n",
       "NC    3\n",
       "ND    3\n",
       "NH    1\n",
       "OK    5\n",
       "UT    8\n",
       "WV    7\n",
       "dtype: int64"
      ]
     },
     "metadata": {},
     "output_type": "display_data"
    },
    {
     "name": "stderr",
     "output_type": "stream",
     "text": [
      "Auto-assigning NUTS sampler...\n",
      "Initializing NUTS using jitter+adapt_diag...\n",
      "Sequential sampling (1 chains in 1 job)\n",
      "NUTS: [serial_interval, theta_raw_steps, theta_raw_init, step_size]\n"
     ]
    },
    {
     "data": {
      "text/html": [
       "\n",
       "    <div>\n",
       "        <style>\n",
       "            /* Turns off some styling */\n",
       "            progress {\n",
       "                /* gets rid of default border in Firefox and Opera. */\n",
       "                border: none;\n",
       "                /* Needs to be in here for Safari polyfill so background images work as expected. */\n",
       "                background-size: auto;\n",
       "            }\n",
       "            .progress-bar-interrupted, .progress-bar-interrupted::-webkit-progress-bar {\n",
       "                background: #F44336;\n",
       "            }\n",
       "        </style>\n",
       "      <progress value='4000' class='' max='4000' style='width:300px; height:20px; vertical-align: middle;'></progress>\n",
       "      100.00% [4000/4000 00:55<00:00 Sampling chain 0, 1 divergences]\n",
       "    </div>\n",
       "    "
      ],
      "text/plain": [
       "<IPython.core.display.HTML object>"
      ]
     },
     "metadata": {},
     "output_type": "display_data"
    },
    {
     "name": "stderr",
     "output_type": "stream",
     "text": [
      "Sampling 1 chain for 3_000 tune and 1_000 draw iterations (3_000 + 1_000 draws total) took 56 seconds.\n",
      "There was 1 divergence after tuning. Increase `target_accept` or reparameterize.\n",
      "Only one chain was sampled, this makes it impossible to run some convergence checks\n",
      "Auto-assigning NUTS sampler...\n",
      "Initializing NUTS using jitter+adapt_diag...\n",
      "Sequential sampling (1 chains in 1 job)\n",
      "NUTS: [serial_interval, theta_raw_steps, theta_raw_init, step_size]\n"
     ]
    },
    {
     "data": {
      "text/html": [
       "\n",
       "    <div>\n",
       "        <style>\n",
       "            /* Turns off some styling */\n",
       "            progress {\n",
       "                /* gets rid of default border in Firefox and Opera. */\n",
       "                border: none;\n",
       "                /* Needs to be in here for Safari polyfill so background images work as expected. */\n",
       "                background-size: auto;\n",
       "            }\n",
       "            .progress-bar-interrupted, .progress-bar-interrupted::-webkit-progress-bar {\n",
       "                background: #F44336;\n",
       "            }\n",
       "        </style>\n",
       "      <progress value='4000' class='' max='4000' style='width:300px; height:20px; vertical-align: middle;'></progress>\n",
       "      100.00% [4000/4000 00:55<00:00 Sampling chain 0, 1 divergences]\n",
       "    </div>\n",
       "    "
      ],
      "text/plain": [
       "<IPython.core.display.HTML object>"
      ]
     },
     "metadata": {},
     "output_type": "display_data"
    },
    {
     "name": "stderr",
     "output_type": "stream",
     "text": [
      "Sampling 1 chain for 3_000 tune and 1_000 draw iterations (3_000 + 1_000 draws total) took 55 seconds.\n",
      "There was 1 divergence after tuning. Increase `target_accept` or reparameterize.\n",
      "Only one chain was sampled, this makes it impossible to run some convergence checks\n",
      "Auto-assigning NUTS sampler...\n",
      "Initializing NUTS using jitter+adapt_diag...\n",
      "Sequential sampling (1 chains in 1 job)\n",
      "NUTS: [serial_interval, theta_raw_steps, theta_raw_init, step_size]\n"
     ]
    },
    {
     "data": {
      "text/html": [
       "\n",
       "    <div>\n",
       "        <style>\n",
       "            /* Turns off some styling */\n",
       "            progress {\n",
       "                /* gets rid of default border in Firefox and Opera. */\n",
       "                border: none;\n",
       "                /* Needs to be in here for Safari polyfill so background images work as expected. */\n",
       "                background-size: auto;\n",
       "            }\n",
       "            .progress-bar-interrupted, .progress-bar-interrupted::-webkit-progress-bar {\n",
       "                background: #F44336;\n",
       "            }\n",
       "        </style>\n",
       "      <progress value='4000' class='' max='4000' style='width:300px; height:20px; vertical-align: middle;'></progress>\n",
       "      100.00% [4000/4000 00:31<00:00 Sampling chain 0, 1 divergences]\n",
       "    </div>\n",
       "    "
      ],
      "text/plain": [
       "<IPython.core.display.HTML object>"
      ]
     },
     "metadata": {},
     "output_type": "display_data"
    },
    {
     "name": "stderr",
     "output_type": "stream",
     "text": [
      "Sampling 1 chain for 3_000 tune and 1_000 draw iterations (3_000 + 1_000 draws total) took 31 seconds.\n",
      "There was 1 divergence after tuning. Increase `target_accept` or reparameterize.\n",
      "Only one chain was sampled, this makes it impossible to run some convergence checks\n",
      "Auto-assigning NUTS sampler...\n",
      "Initializing NUTS using jitter+adapt_diag...\n",
      "Sequential sampling (1 chains in 1 job)\n",
      "NUTS: [serial_interval, theta_raw_steps, theta_raw_init, step_size]\n"
     ]
    },
    {
     "data": {
      "text/html": [
       "\n",
       "    <div>\n",
       "        <style>\n",
       "            /* Turns off some styling */\n",
       "            progress {\n",
       "                /* gets rid of default border in Firefox and Opera. */\n",
       "                border: none;\n",
       "                /* Needs to be in here for Safari polyfill so background images work as expected. */\n",
       "                background-size: auto;\n",
       "            }\n",
       "            .progress-bar-interrupted, .progress-bar-interrupted::-webkit-progress-bar {\n",
       "                background: #F44336;\n",
       "            }\n",
       "        </style>\n",
       "      <progress value='4000' class='' max='4000' style='width:300px; height:20px; vertical-align: middle;'></progress>\n",
       "      100.00% [4000/4000 01:37<00:00 Sampling chain 0, 0 divergences]\n",
       "    </div>\n",
       "    "
      ],
      "text/plain": [
       "<IPython.core.display.HTML object>"
      ]
     },
     "metadata": {},
     "output_type": "display_data"
    },
    {
     "name": "stderr",
     "output_type": "stream",
     "text": [
      "Sampling 1 chain for 3_000 tune and 1_000 draw iterations (3_000 + 1_000 draws total) took 97 seconds.\n",
      "Only one chain was sampled, this makes it impossible to run some convergence checks\n",
      "Auto-assigning NUTS sampler...\n",
      "Initializing NUTS using jitter+adapt_diag...\n",
      "Sequential sampling (1 chains in 1 job)\n",
      "NUTS: [serial_interval, theta_raw_steps, theta_raw_init, step_size]\n"
     ]
    },
    {
     "data": {
      "text/html": [
       "\n",
       "    <div>\n",
       "        <style>\n",
       "            /* Turns off some styling */\n",
       "            progress {\n",
       "                /* gets rid of default border in Firefox and Opera. */\n",
       "                border: none;\n",
       "                /* Needs to be in here for Safari polyfill so background images work as expected. */\n",
       "                background-size: auto;\n",
       "            }\n",
       "            .progress-bar-interrupted, .progress-bar-interrupted::-webkit-progress-bar {\n",
       "                background: #F44336;\n",
       "            }\n",
       "        </style>\n",
       "      <progress value='4000' class='' max='4000' style='width:300px; height:20px; vertical-align: middle;'></progress>\n",
       "      100.00% [4000/4000 00:34<00:00 Sampling chain 0, 6 divergences]\n",
       "    </div>\n",
       "    "
      ],
      "text/plain": [
       "<IPython.core.display.HTML object>"
      ]
     },
     "metadata": {},
     "output_type": "display_data"
    },
    {
     "name": "stderr",
     "output_type": "stream",
     "text": [
      "Sampling 1 chain for 3_000 tune and 1_000 draw iterations (3_000 + 1_000 draws total) took 34 seconds.\n",
      "There were 6 divergences after tuning. Increase `target_accept` or reparameterize.\n",
      "Only one chain was sampled, this makes it impossible to run some convergence checks\n",
      "Auto-assigning NUTS sampler...\n",
      "Initializing NUTS using jitter+adapt_diag...\n",
      "Sequential sampling (1 chains in 1 job)\n",
      "NUTS: [serial_interval, theta_raw_steps, theta_raw_init, step_size]\n"
     ]
    },
    {
     "data": {
      "text/html": [
       "\n",
       "    <div>\n",
       "        <style>\n",
       "            /* Turns off some styling */\n",
       "            progress {\n",
       "                /* gets rid of default border in Firefox and Opera. */\n",
       "                border: none;\n",
       "                /* Needs to be in here for Safari polyfill so background images work as expected. */\n",
       "                background-size: auto;\n",
       "            }\n",
       "            .progress-bar-interrupted, .progress-bar-interrupted::-webkit-progress-bar {\n",
       "                background: #F44336;\n",
       "            }\n",
       "        </style>\n",
       "      <progress value='4000' class='' max='4000' style='width:300px; height:20px; vertical-align: middle;'></progress>\n",
       "      100.00% [4000/4000 00:38<00:00 Sampling chain 0, 0 divergences]\n",
       "    </div>\n",
       "    "
      ],
      "text/plain": [
       "<IPython.core.display.HTML object>"
      ]
     },
     "metadata": {},
     "output_type": "display_data"
    },
    {
     "name": "stderr",
     "output_type": "stream",
     "text": [
      "Sampling 1 chain for 3_000 tune and 1_000 draw iterations (3_000 + 1_000 draws total) took 39 seconds.\n",
      "Only one chain was sampled, this makes it impossible to run some convergence checks\n",
      "Auto-assigning NUTS sampler...\n",
      "Initializing NUTS using jitter+adapt_diag...\n",
      "Sequential sampling (1 chains in 1 job)\n",
      "NUTS: [serial_interval, theta_raw_steps, theta_raw_init, step_size]\n"
     ]
    },
    {
     "data": {
      "text/html": [
       "\n",
       "    <div>\n",
       "        <style>\n",
       "            /* Turns off some styling */\n",
       "            progress {\n",
       "                /* gets rid of default border in Firefox and Opera. */\n",
       "                border: none;\n",
       "                /* Needs to be in here for Safari polyfill so background images work as expected. */\n",
       "                background-size: auto;\n",
       "            }\n",
       "            .progress-bar-interrupted, .progress-bar-interrupted::-webkit-progress-bar {\n",
       "                background: #F44336;\n",
       "            }\n",
       "        </style>\n",
       "      <progress value='4000' class='' max='4000' style='width:300px; height:20px; vertical-align: middle;'></progress>\n",
       "      100.00% [4000/4000 00:55<00:00 Sampling chain 0, 1 divergences]\n",
       "    </div>\n",
       "    "
      ],
      "text/plain": [
       "<IPython.core.display.HTML object>"
      ]
     },
     "metadata": {},
     "output_type": "display_data"
    },
    {
     "name": "stderr",
     "output_type": "stream",
     "text": [
      "Sampling 1 chain for 3_000 tune and 1_000 draw iterations (3_000 + 1_000 draws total) took 55 seconds.\n",
      "There was 1 divergence after tuning. Increase `target_accept` or reparameterize.\n",
      "Only one chain was sampled, this makes it impossible to run some convergence checks\n",
      "Auto-assigning NUTS sampler...\n",
      "Initializing NUTS using jitter+adapt_diag...\n",
      "Sequential sampling (1 chains in 1 job)\n",
      "NUTS: [serial_interval, theta_raw_steps, theta_raw_init, step_size]\n"
     ]
    },
    {
     "data": {
      "text/html": [
       "\n",
       "    <div>\n",
       "        <style>\n",
       "            /* Turns off some styling */\n",
       "            progress {\n",
       "                /* gets rid of default border in Firefox and Opera. */\n",
       "                border: none;\n",
       "                /* Needs to be in here for Safari polyfill so background images work as expected. */\n",
       "                background-size: auto;\n",
       "            }\n",
       "            .progress-bar-interrupted, .progress-bar-interrupted::-webkit-progress-bar {\n",
       "                background: #F44336;\n",
       "            }\n",
       "        </style>\n",
       "      <progress value='4000' class='' max='4000' style='width:300px; height:20px; vertical-align: middle;'></progress>\n",
       "      100.00% [4000/4000 00:55<00:00 Sampling chain 0, 6 divergences]\n",
       "    </div>\n",
       "    "
      ],
      "text/plain": [
       "<IPython.core.display.HTML object>"
      ]
     },
     "metadata": {},
     "output_type": "display_data"
    },
    {
     "name": "stderr",
     "output_type": "stream",
     "text": [
      "Sampling 1 chain for 3_000 tune and 1_000 draw iterations (3_000 + 1_000 draws total) took 55 seconds.\n",
      "There were 6 divergences after tuning. Increase `target_accept` or reparameterize.\n",
      "Only one chain was sampled, this makes it impossible to run some convergence checks\n",
      "Auto-assigning NUTS sampler...\n",
      "Initializing NUTS using jitter+adapt_diag...\n",
      "Sequential sampling (1 chains in 1 job)\n",
      "NUTS: [serial_interval, theta_raw_steps, theta_raw_init, step_size]\n"
     ]
    },
    {
     "data": {
      "text/html": [
       "\n",
       "    <div>\n",
       "        <style>\n",
       "            /* Turns off some styling */\n",
       "            progress {\n",
       "                /* gets rid of default border in Firefox and Opera. */\n",
       "                border: none;\n",
       "                /* Needs to be in here for Safari polyfill so background images work as expected. */\n",
       "                background-size: auto;\n",
       "            }\n",
       "            .progress-bar-interrupted, .progress-bar-interrupted::-webkit-progress-bar {\n",
       "                background: #F44336;\n",
       "            }\n",
       "        </style>\n",
       "      <progress value='4000' class='' max='4000' style='width:300px; height:20px; vertical-align: middle;'></progress>\n",
       "      100.00% [4000/4000 00:29<00:00 Sampling chain 0, 1 divergences]\n",
       "    </div>\n",
       "    "
      ],
      "text/plain": [
       "<IPython.core.display.HTML object>"
      ]
     },
     "metadata": {},
     "output_type": "display_data"
    },
    {
     "name": "stderr",
     "output_type": "stream",
     "text": [
      "Sampling 1 chain for 3_000 tune and 1_000 draw iterations (3_000 + 1_000 draws total) took 29 seconds.\n",
      "There was 1 divergence after tuning. Increase `target_accept` or reparameterize.\n",
      "Only one chain was sampled, this makes it impossible to run some convergence checks\n"
     ]
    }
   ],
   "source": [
    "# Check to see if there were divergences\n",
    "n_diverging = lambda x: x.trace['diverging'].nonzero()[0].size\n",
    "divergences = pd.Series([n_diverging(m) for m in models.values()], index=models.keys())\n",
    "has_divergences = divergences.gt(0)\n",
    "\n",
    "print('Diverging states:')\n",
    "display(divergences[has_divergences])\n",
    "\n",
    "# Rerun states with divergences\n",
    "for state, n_divergences in divergences[has_divergences].items():\n",
    "    models[state].run()"
   ]
  },
  {
   "cell_type": "markdown",
   "metadata": {},
   "source": [
    "## Compile Results"
   ]
  },
  {
   "cell_type": "code",
   "execution_count": 197,
   "metadata": {},
   "outputs": [
    {
     "name": "stderr",
     "output_type": "stream",
     "text": [
      "/Users/kjjin/Library/Python/3.7/lib/python/site-packages/arviz/stats/stats.py:338: UserWarning: hpd will be deprecated Please replace hdi\n",
      "  warnings.warn((\"hpd will be deprecated \" \"Please replace hdi\"),)\n",
      "/Users/kjjin/Library/Python/3.7/lib/python/site-packages/arviz/data/base.py:146: UserWarning: More chains (1000) than draws (132). Passed array should have shape (chains, draws, *shape)\n",
      "  UserWarning,\n",
      "/Users/kjjin/Library/Python/3.7/lib/python/site-packages/arviz/data/base.py:146: UserWarning: More chains (1000) than draws (131). Passed array should have shape (chains, draws, *shape)\n",
      "  UserWarning,\n",
      "/Users/kjjin/Library/Python/3.7/lib/python/site-packages/arviz/data/base.py:146: UserWarning: More chains (1000) than draws (134). Passed array should have shape (chains, draws, *shape)\n",
      "  UserWarning,\n",
      "/Users/kjjin/Library/Python/3.7/lib/python/site-packages/arviz/data/base.py:146: UserWarning: More chains (1000) than draws (133). Passed array should have shape (chains, draws, *shape)\n",
      "  UserWarning,\n",
      "/Users/kjjin/Library/Python/3.7/lib/python/site-packages/arviz/data/base.py:146: UserWarning: More chains (1000) than draws (127). Passed array should have shape (chains, draws, *shape)\n",
      "  UserWarning,\n",
      "/Users/kjjin/Library/Python/3.7/lib/python/site-packages/arviz/data/base.py:146: UserWarning: More chains (1000) than draws (138). Passed array should have shape (chains, draws, *shape)\n",
      "  UserWarning,\n",
      "/Users/kjjin/Library/Python/3.7/lib/python/site-packages/arviz/data/base.py:146: UserWarning: More chains (1000) than draws (135). Passed array should have shape (chains, draws, *shape)\n",
      "  UserWarning,\n",
      "/Users/kjjin/Library/Python/3.7/lib/python/site-packages/arviz/data/base.py:146: UserWarning: More chains (1000) than draws (177). Passed array should have shape (chains, draws, *shape)\n",
      "  UserWarning,\n"
     ]
    }
   ],
   "source": [
    "results = None\n",
    "\n",
    "for state, model in models.items():\n",
    "\n",
    "    df = df_from_model(model)\n",
    "\n",
    "    if results is None:\n",
    "        results = df\n",
    "    else:\n",
    "        results = pd.concat([results, df], axis=0)"
   ]
  },
  {
   "cell_type": "markdown",
   "metadata": {},
   "source": [
    "### Render to CSV\n",
    "Uncomment if you'd like"
   ]
  },
  {
   "cell_type": "code",
   "execution_count": 198,
   "metadata": {},
   "outputs": [],
   "source": [
    "results.to_csv('rt_full_2020_06_19.csv')"
   ]
  },
  {
   "cell_type": "markdown",
   "metadata": {},
   "source": [
    "### Render Charts"
   ]
  },
  {
   "cell_type": "code",
   "execution_count": 21,
   "metadata": {},
   "outputs": [],
   "source": [
    "def plot_rt(name, result, ax, c=(.3,.3,.3,1), ci=(0,0,0,.05)):\n",
    "    ax.set_ylim(0.5, 1.6)\n",
    "    ax.set_title(name)\n",
    "    ax.plot(result['median'],\n",
    "            marker='o',\n",
    "            markersize=4,\n",
    "            markerfacecolor='w',\n",
    "            lw=1,\n",
    "            c=c,\n",
    "            markevery=2)\n",
    "    ax.fill_between(\n",
    "        result.index,\n",
    "        result['lower_90'].values,\n",
    "        result['upper_90'].values,\n",
    "        color=ci,\n",
    "        lw=0)\n",
    "    ax.axhline(1.0, linestyle=':', lw=1)\n",
    "    \n",
    "    ax.xaxis.set_major_formatter(mdates.DateFormatter('%m/%d'))\n",
    "    ax.xaxis.set_major_locator(mdates.WeekdayLocator(interval=2))"
   ]
  },
  {
   "cell_type": "code",
   "execution_count": 22,
   "metadata": {},
   "outputs": [
    {
     "data": {
      "image/png": "[encoded data removed]",
      "text/plain": [
       "<Figure size 1008x432 with 8 Axes>"
      ]
     },
     "metadata": {
      "image/png": {
       "height": 423,
       "width": 1000
      }
     },
     "output_type": "display_data"
    }
   ],
   "source": [
    "ncols = 4\n",
    "nrows = int(np.ceil(results.index.levels[0].shape[0] / ncols))\n",
    "\n",
    "fig, axes = plt.subplots(\n",
    "    nrows=nrows,\n",
    "    ncols=ncols,\n",
    "    figsize=(14, nrows*3),\n",
    "    sharey='row')\n",
    "\n",
    "for ax, (state, result) in zip(axes.flat, results.groupby('region')):\n",
    "    plot_rt(state, result.droplevel(0), ax)\n",
    "\n",
    "fig.tight_layout()\n",
    "fig.set_facecolor('w')"
   ]
  },
  {
   "cell_type": "code",
   "execution_count": 23,
   "metadata": {},
   "outputs": [],
   "source": [
    "# url = 'https://raw.githubusercontent.com/jasonong/List-of-US-States/master/states.csv'\n",
    "# abbrev = pd.read_csv(url, index_col=['State'], squeeze=True)\n",
    "\n",
    "# jhu_url = 'https://raw.githubusercontent.com/CSSEGISandData/COVID-19/master/csse_covid_19_data/csse_covid_19_time_series/time_series_covid19_confirmed_US.csv'\n",
    "# jhu = pd.read_csv(jhu_url)\n",
    "\n",
    "# jhu = jhu.drop(columns=['UID', 'iso2', 'iso3', 'code3', 'FIPS', 'Admin2', 'Country_Region', 'Lat', 'Long_', 'Combined_Key'])\n",
    "# jhu = jhu.set_index('Province_State')\n",
    "# jhu.index = jhu.index.rename('region')\n",
    "# jhu = jhu.drop([\n",
    "#     'American Samoa',\n",
    "#     'Guam',\n",
    "#     'Northern Mariana Islands',\n",
    "#     'Puerto Rico',\n",
    "#     'Virgin Islands',\n",
    "#     'Diamond Princess',\n",
    "#     'Grand Princess'])\n",
    "\n",
    "# jhu.index = pd.Index(jhu.index.to_series().replace(abbrev).values, name='region')\n",
    "# jhu.columns = pd.to_datetime(jhu.columns)\n",
    "# jhu = jhu.groupby('region').sum()\n",
    "# jhu = jhu.stack().sort_index()\n",
    "\n",
    "# state = 'VT'\n",
    "# ax = jhu.xs(state).diff().plot(label='JHU', color='k', legend=True, title=state)\n",
    "# # jhu.xs('AK').diff().rolling(7).mean().plot(ax=ax)\n",
    "# states.xs(state).positive.diff().plot(ax=ax, figsize=(6,4), linestyle=':', label='Covidtracking', legend=True)\n",
    "# ax.set_xlim(pd.Timestamp('2020-03-01'),None)"
   ]
  },
  {
   "cell_type": "code",
   "execution_count": 24,
   "metadata": {},
   "outputs": [],
   "source": [
    "# url = 'https://raw.githubusercontent.com/epiforecasts/covid-regional/3ad63ea1acceb797f0628a8037fc206342d267e7/united-states/regional-summary/rt.csv'\n",
    "\n",
    "# epf = pd.read_csv(url, parse_dates=['date'])\n",
    "# epf.region = epf.region.replace(abbrev)\n",
    "# epf = epf.set_index(['region', 'date']).sort_index()\n",
    "# epf = epf.drop(['Guam', 'Puerto Rico'])\n",
    "\n",
    "# epf_lookup = {}\n",
    "# for idx, grp in epf.groupby('region'):\n",
    "\n",
    "#     epf_lookup[idx]=grp\n",
    "#     epf_grp = epf_lookup[state]\n",
    "    \n",
    "#     plot_rt(state, result.droplevel(0), ax)\n",
    "#     plot_rt(state, epf_grp.droplevel(0), ax, c=(1,0,0,1))"
   ]
  }
 ],
 "metadata": {
  "kernelspec": {
   "display_name": "Python 3",
   "language": "python",
   "name": "python3"
  },
  "language_info": {
   "codemirror_mode": {
    "name": "ipython",
    "version": 3
   },
   "file_extension": ".py",
   "mimetype": "text/x-python",
   "name": "python",
   "nbconvert_exporter": "python",
   "pygments_lexer": "ipython3",
   "version": "3.7.6"
  }
 },
 "nbformat": 4,
 "nbformat_minor": 4
}
